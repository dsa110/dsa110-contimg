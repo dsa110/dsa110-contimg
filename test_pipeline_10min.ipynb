{
 "cells": [
  {
   "cell_type": "code",
   "execution_count": 7,
   "id": "1a5753f0",
   "metadata": {},
   "outputs": [
    {
     "name": "stdout",
     "output_type": "stream",
     "text": [
      "2025-05-09 08:16:08 [INFO ] [MainThread] [root] CASA log file set to: /data/jfaber/dsa110-contimg/../logs/casa_20250509_081608.log\n",
      "2025-05-09 08:16:08 [INFO ] [MainThread] [root] CASA log file set to: /data/jfaber/dsa110-contimg/../logs/casa_20250509_081608.log\n",
      "2025-05-09 08:16:08 [INFO ] [MainThread] [root] Pipeline logging configured. Log file: /data/jfaber/dsa110-contimg/../logs/notebook_test_081608_20250509_081608.log\n",
      "2025-05-09 08:16:08 [INFO ] [MainThread] [root] Pipeline logging configured. Log file: /data/jfaber/dsa110-contimg/../logs/notebook_test_081608_20250509_081608.log\n",
      "2025-05-09 08:16:08 [INFO ] [MainThread] [root] Setup cell executed.\n",
      "2025-05-09 08:16:08 [INFO ] [MainThread] [root] Setup cell executed.\n"
     ]
    }
   ],
   "source": [
    "import argparse\n",
    "import os\n",
    "import sys\n",
    "import glob\n",
    "import time\n",
    "import numpy as np\n",
    "import pandas as pd\n",
    "import yaml\n",
    "from datetime import datetime, timedelta\n",
    "import logging\n",
    "\n",
    "# Astropy imports\n",
    "from astropy.time import Time, TimeDelta\n",
    "from astropy.coordinates import SkyCoord, Angle, EarthLocation\n",
    "import astropy.units as u\n",
    "from astropy.io import fits\n",
    "from astropy.wcs import WCS\n",
    "\n",
    "# --- IMPORTANT: Adjust sys.path if needed ---\n",
    "pipeline_parent_dir = '/data/jfaber/dsa110-contimg/' \n",
    "if pipeline_parent_dir not in sys.path:\n",
    "    sys.path.insert(0, pipeline_parent_dir)\n",
    "\n",
    "# Pipeline module imports\n",
    "try:\n",
    "    from pipeline import config_parser\n",
    "    from pipeline import pipeline_utils\n",
    "    from pipeline import ms_creation\n",
    "    from pipeline import calibration\n",
    "    from pipeline import skymodel\n",
    "    from pipeline import imaging\n",
    "    from pipeline import mosaicking\n",
    "    from pipeline import photometry\n",
    "    from pipeline import dsa110_utils # Needed for location\n",
    "except ImportError as e:\n",
    "    print(f\"ERROR: Failed to import pipeline modules. Check sys.path.\")\n",
    "    print(f\"Current sys.path: {sys.path}\")\n",
    "    raise e\n",
    "\n",
    "# pyuvdata needed for reading header\n",
    "try:\n",
    "    from pyuvdata import UVData\n",
    "    pyuvdata_available = True\n",
    "except ImportError:\n",
    "     print(\"ERROR: pyuvdata is required to read HDF5 metadata.\")\n",
    "     pyuvdata_available = False # Script will likely fail later\n",
    "\n",
    "# --- Define Paths and Parameters ---\n",
    "# These replace command-line arguments\n",
    "CONFIG_PATH = 'config/pipeline_config.yaml' # Relative path from notebook location\n",
    "HDF5_DIR = '/data/incoming/'\n",
    "# Optional: Force a specific BPCAL name for testing, otherwise set to None\n",
    "BCAL_NAME_OVERRIDE = None\n",
    "VERBOSE_LOGGING = True # Set True for DEBUG level, False for INFO\n",
    "\n",
    "# --- Setup Logging ---\n",
    "# Load config minimally just to get log path\n",
    "try:\n",
    "    with open(CONFIG_PATH, 'r') as f:\n",
    "        temp_config = yaml.safe_load(f)\n",
    "    log_dir = temp_config.get('paths', {}).get('log_dir', 'logs')\n",
    "    # Resolve log_dir relative to pipeline parent dir if needed\n",
    "    if not os.path.isabs(log_dir):\n",
    "        log_dir = os.path.join(pipeline_parent_dir, log_dir)\n",
    "    os.makedirs(log_dir, exist_ok=True)\n",
    "    log_level = logging.DEBUG if VERBOSE_LOGGING else logging.INFO\n",
    "    # Setup logger (might print duplicate messages if run multiple times in notebook kernel)\n",
    "    logger = pipeline_utils.setup_logging(log_dir, config_name=f\"notebook_test_{datetime.now().strftime('%H%M%S')}\")\n",
    "    logger.setLevel(log_level)\n",
    "    # Suppress overly verbose CASA logs if desired\n",
    "    # from casatasks import casalog\n",
    "    # casalog.filter('INFO') # Filter to show only INFO and above for CASA tasks\n",
    "    logger.info(\"Setup cell executed.\")\n",
    "except Exception as e:\n",
    "    print(f\"ERROR during setup: {e}\")\n",
    "    # Stop execution if setup fails\n",
    "    raise RuntimeError(\"Setup failed\")"
   ]
  },
  {
   "cell_type": "code",
   "execution_count": 1,
   "id": "49388578",
   "metadata": {},
   "outputs": [],
   "source": [
    "from pipeline import config_parser"
   ]
  },
  {
   "cell_type": "code",
   "execution_count": 2,
   "id": "7a12d723",
   "metadata": {},
   "outputs": [],
   "source": [
    "from pipeline import pipeline_utils"
   ]
  },
  {
   "cell_type": "code",
   "execution_count": 1,
   "id": "ce574623",
   "metadata": {},
   "outputs": [],
   "source": [
    "from pipeline import ms_creation"
   ]
  },
  {
   "cell_type": "code",
   "execution_count": 1,
   "id": "f7ecad95",
   "metadata": {},
   "outputs": [],
   "source": [
    "from pipeline import calibration"
   ]
  },
  {
   "cell_type": "code",
   "execution_count": 1,
   "id": "1abdb691",
   "metadata": {},
   "outputs": [
    {
     "name": "stdout",
     "output_type": "stream",
     "text": [
      "measures_update ... acquiring the lock ... \n",
      "  ... connecting to ftp.astron.nl ...\n",
      "  ... downloading WSRT_Measures_20250508-160001.ztar from ASTRON server to /data/jfaber/.casa/data ...\n",
      "  ... measures data updated at /data/jfaber/.casa/data\n"
     ]
    }
   ],
   "source": [
    "from pipeline import skymodel"
   ]
  },
  {
   "cell_type": "code",
   "execution_count": 2,
   "id": "e58ba0aa",
   "metadata": {},
   "outputs": [],
   "source": [
    "from pipeline import imaging"
   ]
  },
  {
   "cell_type": "code",
   "execution_count": 3,
   "id": "dbd3f5b7",
   "metadata": {},
   "outputs": [
    {
     "ename": "NameError",
     "evalue": "name 'Table' is not defined",
     "output_type": "error",
     "traceback": [
      "\u001b[0;31m---------------------------------------------------------------------------\u001b[0m",
      "\u001b[0;31mNameError\u001b[0m                                 Traceback (most recent call last)",
      "Cell \u001b[0;32mIn[3], line 1\u001b[0m\n\u001b[0;32m----> 1\u001b[0m \u001b[38;5;28;01mfrom\u001b[39;00m \u001b[38;5;21;01mpipeline\u001b[39;00m \u001b[38;5;28;01mimport\u001b[39;00m mosaicking\n",
      "File \u001b[0;32m/data/jfaber/dsa110-contimg/pipeline/mosaicking.py:25\u001b[0m\n\u001b[1;32m     23\u001b[0m \u001b[38;5;28;01mfrom\u001b[39;00m \u001b[38;5;21;01m.\u001b[39;00m\u001b[38;5;21;01mpipeline_utils\u001b[39;00m \u001b[38;5;28;01mimport\u001b[39;00m get_logger\n\u001b[1;32m     24\u001b[0m \u001b[38;5;66;03m# Import imaging functions if they handle export/plotting, otherwise keep them here\u001b[39;00m\n\u001b[0;32m---> 25\u001b[0m \u001b[38;5;28;01mfrom\u001b[39;00m \u001b[38;5;21;01m.\u001b[39;00m\u001b[38;5;21;01mimaging\u001b[39;00m \u001b[38;5;28;01mimport\u001b[39;00m export_image_to_fits, plot_image\n\u001b[1;32m     27\u001b[0m logger \u001b[38;5;241m=\u001b[39m get_logger(\u001b[38;5;18m__name__\u001b[39m)\n\u001b[1;32m     29\u001b[0m \u001b[38;5;66;03m# --- Helper Function ---\u001b[39;00m\n",
      "File \u001b[0;32m/data/jfaber/dsa110-contimg/pipeline/imaging.py:224\u001b[0m\n\u001b[1;32m    220\u001b[0m         \u001b[38;5;28;01mreturn\u001b[39;00m \u001b[38;5;28;01mNone\u001b[39;00m\n\u001b[1;32m    222\u001b[0m \u001b[38;5;66;03m# --- Diagnostic Plotting ---\u001b[39;00m\n\u001b[0;32m--> 224\u001b[0m \u001b[38;5;28;01mdef\u001b[39;00m \u001b[38;5;21mplot_image\u001b[39m(config: \u001b[38;5;28mdict\u001b[39m, fits_path: \u001b[38;5;28mstr\u001b[39m, source_table: \u001b[43mTable\u001b[49m \u001b[38;5;241m=\u001b[39m \u001b[38;5;28;01mNone\u001b[39;00m, plot_suffix: \u001b[38;5;28mstr\u001b[39m \u001b[38;5;241m=\u001b[39m \u001b[38;5;124m\"\u001b[39m\u001b[38;5;124m\"\u001b[39m):\n\u001b[1;32m    225\u001b[0m \u001b[38;5;250m    \u001b[39m\u001b[38;5;124;03m\"\"\"Creates a diagnostic plot of a FITS image with optional source overlays.\"\"\"\u001b[39;00m\n\u001b[1;32m    226\u001b[0m     \u001b[38;5;28;01mif\u001b[39;00m \u001b[38;5;129;01mnot\u001b[39;00m plotting_available:\n",
      "\u001b[0;31mNameError\u001b[0m: name 'Table' is not defined"
     ]
    }
   ],
   "source": [
    "from pipeline import mosaicking"
   ]
  },
  {
   "cell_type": "code",
   "execution_count": 5,
   "id": "f4b73ad5",
   "metadata": {},
   "outputs": [],
   "source": [
    "from pipeline import photometry"
   ]
  },
  {
   "cell_type": "code",
   "execution_count": 7,
   "id": "76e7fdd1",
   "metadata": {},
   "outputs": [],
   "source": [
    "from pipeline import dsa110_utils"
   ]
  },
  {
   "cell_type": "code",
   "execution_count": null,
   "id": "2d16b9f0",
   "metadata": {},
   "outputs": [],
   "source": []
  }
 ],
 "metadata": {
  "kernelspec": {
   "display_name": "dsa_contimg",
   "language": "python",
   "name": "python3"
  },
  "language_info": {
   "codemirror_mode": {
    "name": "ipython",
    "version": 3
   },
   "file_extension": ".py",
   "mimetype": "text/x-python",
   "name": "python",
   "nbconvert_exporter": "python",
   "pygments_lexer": "ipython3",
   "version": "3.10.16"
  }
 },
 "nbformat": 4,
 "nbformat_minor": 5
}
