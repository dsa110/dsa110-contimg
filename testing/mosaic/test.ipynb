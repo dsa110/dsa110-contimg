{
 "cells": [
  {
   "cell_type": "code",
   "execution_count": 3,
   "metadata": {},
   "outputs": [
    {
     "name": "stdout",
     "output_type": "stream",
     "text": [
      "Input MS Files: \n",
      "\n",
      "10:43:31\n",
      "10:53:25\n",
      "11:00:29\n",
      "11:05:38\n",
      "11:10:47\n",
      "11:15:57\n",
      "11:21:06\n",
      "11:26:15\n",
      "11:31:24\n",
      "11:36:34\n",
      "11:41:43\n",
      "11:46:52\n"
     ]
    }
   ],
   "source": [
    "import os\n",
    "import numpy as np\n",
    "import matplotlib.pyplot as plt\n",
    "from shutil import rmtree, copy, copytree\n",
    "from astropy.coordinates import SkyCoord\n",
    "from astropy.io import fits\n",
    "from astropy.wcs import WCS\n",
    "from astropy.visualization import (PercentileInterval, LogStretch, PowerStretch, ManualInterval, ZScaleInterval, ImageNormalize)\n",
    "\n",
    "from casatasks import listobs, split, clearcal, delmod, rmtables, setjy, gaincal, bandpass, applycal, tclean, flagdata, ft, fixvis, phaseshift, casalog, mstransform, exportfits\n",
    "from casatools import linearmosaic, componentlist, msmetadata, imager, ms, table\n",
    "\n",
    "# Set path for measurement set, analysis output, and CASA log files\n",
    "basepath = '/data/jfaber/dsa110-contimg/sandbox/2025-03-18_trial1/'\n",
    "casalog.setlogfile(f'{basepath}/casa_logfile.log')\n",
    "\n",
    "file_start = 39\n",
    "file_pack = 51\n",
    "\n",
    "input_msfile_path = os.path.join(basepath, 'msfiles', 'base')\n",
    "input_msfiles = [file for file in os.listdir(input_msfile_path) if file.endswith('.ms')]\n",
    "input_msfiles_sorted = sorted(input_msfiles, key=lambda fname: float(fname.split(\"_ra\")[1].split(\"_\")[0]))\n",
    "input_msfiles_sorted = input_msfiles_sorted[file_start:file_pack]\n",
    "input_msfiles_fullpath = [os.path.join(basepath, 'msfiles', 'base', i) for i in input_msfiles_sorted]\n",
    "print('Input MS Files: \\n')\n",
    "for file in input_msfiles_sorted:\n",
    "    print(file[11:19])"
   ]
  },
  {
   "cell_type": "code",
   "execution_count": null,
   "metadata": {},
   "outputs": [],
   "source": []
  }
 ],
 "metadata": {
  "kernelspec": {
   "display_name": "dsa_contimg",
   "language": "python",
   "name": "python3"
  },
  "language_info": {
   "codemirror_mode": {
    "name": "ipython",
    "version": 3
   },
   "file_extension": ".py",
   "mimetype": "text/x-python",
   "name": "python",
   "nbconvert_exporter": "python",
   "pygments_lexer": "ipython3",
   "version": "3.10.16"
  }
 },
 "nbformat": 4,
 "nbformat_minor": 2
}
