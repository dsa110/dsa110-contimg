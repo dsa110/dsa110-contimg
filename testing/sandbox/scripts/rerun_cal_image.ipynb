{
 "cells": [
  {
   "cell_type": "code",
   "execution_count": 35,
   "metadata": {},
   "outputs": [],
   "source": [
    "import os\n",
    "import sys\n",
    "import numpy as np\n",
    "import pandas as pd\n",
    "import importlib\n",
    "from shutil import rmtree, copy, copytree\n",
    "import matplotlib.pyplot as plt\n",
    "from matplotlib.patches import Circle\n",
    "from matplotlib import rcParams\n",
    "from matplotlib.ticker import ScalarFormatter\n",
    "\n",
    "rcParams['font.family'] = 'serif'\n",
    "rcParams['font.serif'] = ['DejaVu Serif']\n",
    "rcParams['mathtext.fontset'] = 'dejavuserif'\n",
    "rcParams['font.size'] = 30\n",
    "rcParams['axes.formatter.use_mathtext'] = True\n",
    "rcParams['axes.unicode_minus'] = True\n",
    "rcParams['mathtext.default'] = 'regular'\n",
    "rcParams['text.usetex'] = False\n",
    "\n",
    "from astropy.coordinates import SkyCoord, match_coordinates_sky\n",
    "from astropy.visualization import (PercentileInterval, LogStretch, PowerStretch, ManualInterval, ZScaleInterval, ImageNormalize)\n",
    "from astroquery.vizier import Vizier\n",
    "from astropy.io import fits\n",
    "from astropy.wcs import WCS\n",
    "import astropy.units as u\n",
    "\n",
    "from casatasks import listobs, split, clearcal, delmod, rmtables, setjy, gaincal, bandpass, applycal, tclean, flagdata, ft, fixvis, phaseshift, casalog, mstransform, exportfits\n",
    "from casatools import componentlist, msmetadata, imager, ms, table"
   ]
  },
  {
   "cell_type": "code",
   "execution_count": 36,
   "metadata": {},
   "outputs": [
    {
     "data": {
      "text/plain": [
       "True"
      ]
     },
     "execution_count": 36,
     "metadata": {},
     "output_type": "execute_result"
    }
   ],
   "source": [
    "# Set path for measurement set, analysis output, and CASA log files\n",
    "basepath = '/data/jfaber/dsa110-contimg/sandbox/2025-03-18/'\n",
    "casalog.setlogfile(f'{basepath}/casa_logfile.log')"
   ]
  },
  {
   "cell_type": "code",
   "execution_count": 39,
   "metadata": {},
   "outputs": [
    {
     "name": "stdout",
     "output_type": "stream",
     "text": [
      "['2025-03-18T01:30:21_ra080.4_dec+16.5_base.ms', '2025-03-18T06:52:15_ra161.2_dec+16.6_base.ms', '2025-03-18T06:57:25_ra162.4_dec+16.6_base.ms', '2025-03-18T07:02:34_ra163.7_dec+16.6_base.ms', '2025-03-18T07:07:43_ra165.0_dec+16.6_base.ms', '2025-03-18T18:54:55_ra342.4_dec+16.4_base.ms', '2025-03-18T19:00:04_ra343.6_dec+16.4_base.ms', '2025-03-18T19:05:13_ra344.9_dec+16.4_base.ms']\n",
      "MS File to rephase to bandpass calibrator: 2025-03-18T07:02:34_ra163.7_dec+16.6_bcal_sb8.ms\n",
      "\n",
      "\n",
      "\n",
      "\n",
      "Base MS File: 2025-03-18T07:02:34_ra163.7_dec+16.6_base.ms\n",
      "\n",
      "\n"
     ]
    }
   ],
   "source": [
    "# Identify the base measurement sets and sorted them in time\n",
    "msfiles = [file for file in os.listdir(basepath) if file.endswith('_base.ms')]\n",
    "msfiles_sorted = sorted(msfiles, key=lambda fname: float(fname.split(\"_ra\")[1].split(\"_\")[0]))\n",
    "print(msfiles_sorted)\n",
    "msfile = msfiles_sorted[3]\n",
    "\n",
    "msfile_bcal = msfile.split(\".ms\")[0][:-5]+f'_bcal_sb{chanstoavg}.ms'\n",
    "print(f'MS File to rephase to bandpass calibrator: {msfile_bcal}')\n",
    "print('\\n')\n",
    "\n",
    "#if os.path.exists(os.path.join(basepath, msfile_bcal)):\n",
    "#    rmtree(os.path.join(basepath, msfile_bcal))\n",
    "#    #copytree(os.path.join(basepath, msfile_image), os.path.join(basepath, msfile_bcal))\n",
    "#split(vis=os.path.join(basepath, msfile), outputvis=os.path.join(basepath, msfile_bcal), datacolumn='all', width=chanstoavg)\n",
    "\n",
    "#for msfile in msfiles:\n",
    "print('\\n')\n",
    "print(f'Base MS File: {msfile}')\n",
    "print('\\n')"
   ]
  },
  {
   "cell_type": "code",
   "execution_count": 40,
   "metadata": {},
   "outputs": [
    {
     "name": "stdout",
     "output_type": "stream",
     "text": [
      "\n",
      "\n",
      "Observation Date: 2025-03-18T07:02:34\n",
      "No. Channels to Average: 8\n",
      "Central Field: Field 11\n",
      "Fields to Calibrate Over: Field 0 to Field 23\n",
      "\n",
      "\n"
     ]
    }
   ],
   "source": [
    "msdate = msfile.split('_')[0]\n",
    "chanstoavg = 8 #set to 4 later\n",
    "field_image_idx = 11\n",
    "field_cal_idx0, field_cal_idx1 = 0, 23\n",
    "uvrange = '0.3klambda'\n",
    "refant = 'pad103'\n",
    "\n",
    "print('\\n')\n",
    "print(f'Observation Date: {msdate}')\n",
    "print(f'No. Channels to Average: {chanstoavg}')\n",
    "print(f'Central Field: Field {field_image_idx}')\n",
    "print(f'Fields to Calibrate Over: Field {field_cal_idx0} to Field {field_cal_idx1}')\n",
    "print('\\n')"
   ]
  },
  {
   "cell_type": "code",
   "execution_count": 41,
   "metadata": {},
   "outputs": [],
   "source": [
    "msmd = msmetadata()\n",
    "msmd.open(os.path.join(basepath, msfile))\n",
    "fieldnames = msmd.fieldnames()\n",
    "\n",
    "fieldname_image = fieldnames[field_image_idx]\n",
    "fieldname_cal_list = fieldnames[field_cal_idx0: field_cal_idx1]\n",
    "fieldname_cal = ', '.join(fieldname_cal_list)"
   ]
  },
  {
   "cell_type": "code",
   "execution_count": 28,
   "metadata": {},
   "outputs": [
    {
     "name": "stdout",
     "output_type": "stream",
     "text": [
      "Generating a sky model with the top 200 brightest NVSS sources...\n",
      "\n",
      "Primary Beam FWHM (2.946 degrees):\n",
      "  RA:  78.936186 to 81.881836\n",
      "  Dec: 15.005736 to 17.951386\n",
      "Querying VIII/65/nvss/ ...\n",
      "Found 446 sources in the field!\n",
      "Querying J/other/A+A/598/A78/table3 ...\n",
      "No sources found in the TGSS ADR1 catalog.\n",
      "Creating new component list 'nvss_top200_080p4_16p5.cl'...\n",
      "Component list 'nvss_top200_080p4_16p5.cl' created successfully with 200 sources.\n"
     ]
    },
    {
     "name": "stderr",
     "output_type": "stream",
     "text": [
      "2025-03-19 23:08:13\tWARN\tcomponentlist::close\tcomponentlist closed\n"
     ]
    }
   ],
   "source": [
    "sys.path.insert(0, '/data/jfaber/dsa110-contimg/sandbox/scripts')\n",
    "import make_skymodel_cl_mf\n",
    "importlib.reload(make_skymodel_cl_mf)\n",
    "from make_skymodel_cl_mf import make_skymodel\n",
    "\n",
    "# Number of bright sources to include in the sky model\n",
    "top_n = 200\n",
    "\n",
    "print(f'Generating a sky model with the top {top_n} brightest NVSS sources...')\n",
    "\n",
    "# Define filename strings\n",
    "ra_str = f\"{msfile.split('_')[1][2:5]}p{msfile.split('_')[1][6:9]}\"\n",
    "dec_str = f\"{msfile.split('_')[2][4:6]}p{msfile.split('_')[2][7:8]}\"\n",
    "clfile = f'nvss_top{top_n}_{ra_str}_{dec_str}.cl'\n",
    "cllabel = clfile.split('.')[0]\n",
    "\n",
    "if os.path.exists(os.path.join(basepath, f'nvss_top{top_n}_{ra_str}_{dec_str}.cl')):\n",
    "    rmtree(os.path.join(basepath, f'nvss_top{top_n}_{ra_str}_{dec_str}.cl'))\n",
    "\n",
    "nvss_catalog = make_skymodel(basepath, msfile_bcal, fieldname=fieldname_image, top_n=top_n, pbfrac=0.5)"
   ]
  },
  {
   "cell_type": "code",
   "execution_count": 29,
   "metadata": {},
   "outputs": [
    {
     "name": "stdout",
     "output_type": "stream",
     "text": [
      "Imaging the sky model and saving plot...\n",
      "Image Parameters\n",
      "----------------\n",
      "nx, ny: (4800, 4800)\n",
      "cellx, celly: ('3arcsec', '3arcsec')\n",
      "mode: mfs\n",
      "Phase Center: J2000 5h21m44.621490721007504s 16d28m43.055491020262764s\n",
      "MS Selected: /data/jfaber/dsa110-contimg/sandbox/2025-03-18/2025-03-18T01:30:21_ra080.4_dec+16.5_bcal_sb8.ms\n"
     ]
    },
    {
     "name": "stderr",
     "output_type": "stream",
     "text": [
      "2025-03-19 23:08:38\tWARN\timager::setdata()\tIgnoring that ms/data/jfaber/dsa110-contimg/sandbox/2025-03-18/2025-03-18T01:30:21_ra080.4_dec+16.5_bcal_sb8.msspecified here\n",
      "2025-03-19 23:08:38\tWARN\timager::setdata()\tImager was constructed with an ms \n",
      "2025-03-19 23:08:38\tWARN\timager::setdata()\tif multi-ms are to be used please construct imager without parameters and use setdata to specify the ms's and selection\n"
     ]
    },
    {
     "name": "stdout",
     "output_type": "stream",
     "text": [
      "Phase center of the total field: J2000 5h21m44.621490721007504s 16d28m43.055491020262764s\n",
      "\n",
      "\n"
     ]
    },
    {
     "name": "stderr",
     "output_type": "stream",
     "text": [
      "WARNING: FITSFixedWarning: 'datfix' made the change 'Set MJD-OBS to 60752.064397 from DATE-OBS'. [astropy.wcs.wcs]\n",
      "WARNING: FITSFixedWarning: 'obsfix' made the change 'Set OBSGEO-L to  -118.141642 from OBSGEO-[XYZ].\n",
      "Set OBSGEO-B to    37.280380 from OBSGEO-[XYZ].\n",
      "Set OBSGEO-H to     2193.256 from OBSGEO-[XYZ]'. [astropy.wcs.wcs]\n"
     ]
    }
   ],
   "source": [
    "sys.path.insert(0, '/data/jfaber/dsa110-contimg/sandbox/scripts')\n",
    "import image_skymodel_cl\n",
    "importlib.reload(image_skymodel_cl)\n",
    "from image_skymodel_cl import image_skymodel\n",
    "\n",
    "print('Imaging the sky model and saving plot...')\n",
    "\n",
    "wcs_2d_coords_x, wcs_2d_coords_y, phasecenter = image_skymodel(basepath, msfile_bcal, fieldname_image, nvss_catalog, top_n=top_n, nx=4800, ny=4800, cellx='3arcsec', celly='3arcsec', mode='mfs', phasecenter=None)\n",
    "startmodel_nvss = cllabel + '.image'\n",
    "print(f'Phase center of the total field: {phasecenter}')\n",
    "print('\\n')"
   ]
  },
  {
   "cell_type": "code",
   "execution_count": 30,
   "metadata": {},
   "outputs": [
    {
     "name": "stdout",
     "output_type": "stream",
     "text": [
      "Applying bandpass solutions to non-centered MS...\n",
      "\n",
      "\n",
      "Not calculating bandpass solutions! Using previously calculated solution table J2253+1608_2025-03-18T19:00:04_f0f23.bcal...\n",
      "\n",
      "\n"
     ]
    }
   ],
   "source": [
    "print('Applying bandpass solutions to non-centered MS...')\n",
    "print('\\n')\n",
    "\n",
    "bcalfield = fieldname_cal\n",
    "bcalfile = 'J2253+1608_2025-03-18T19:00:04_f0f23.bcal'\n",
    "\n",
    "print(f'Not calculating bandpass solutions! Using previously calculated solution table {bcalfile}...')\n",
    "print('\\n')\n",
    "\n",
    "applycal(vis=os.path.join(basepath, msfile_bcal),\n",
    "        field=fieldname_cal,\n",
    "        gaintable=os.path.join(basepath, bcalfile))"
   ]
  },
  {
   "cell_type": "code",
   "execution_count": 31,
   "metadata": {},
   "outputs": [
    {
     "name": "stdout",
     "output_type": "stream",
     "text": [
      "Copying non-centered bandpass-corrected MS for next steps (only corrected column)...\n"
     ]
    }
   ],
   "source": [
    "print('Copying non-centered bandpass-corrected MS for next steps (only corrected column)...')\n",
    "msfile_bcal_corr = msfile_bcal.split(\".ms\")[0] + '_corr.ms'\n",
    "split(vis=os.path.join(basepath, msfile_bcal), outputvis=os.path.join(basepath, msfile_bcal_corr), datacolumn='corrected', width=chanstoavg)"
   ]
  },
  {
   "cell_type": "code",
   "execution_count": 32,
   "metadata": {},
   "outputs": [
    {
     "name": "stdout",
     "output_type": "stream",
     "text": [
      "Placing the sky model in the MODEL column of the non-centered MS...\n",
      "\n",
      "\n"
     ]
    }
   ],
   "source": [
    "print('Placing the sky model in the MODEL column of the non-centered MS...')\n",
    "print('\\n')\n",
    "\n",
    "ft(vis=os.path.join(basepath, msfile_bcal_corr), \n",
    "    field=fieldname_cal,\n",
    "    complist=os.path.join(basepath, clfile), \n",
    "    reffreq='1.4GHz',\n",
    "    usescratch=True)"
   ]
  },
  {
   "cell_type": "code",
   "execution_count": 33,
   "metadata": {},
   "outputs": [
    {
     "name": "stdout",
     "output_type": "stream",
     "text": [
      "Copy the MS and place the phasecenter for all columns on the center of the total field at J2000 5h21m44.621490721007504s 16d28m43.055491020262764s...\n",
      "\n",
      "\n"
     ]
    }
   ],
   "source": [
    "print(f'Copy the MS and place the phasecenter for all columns on the center of the total field at {phasecenter}...')\n",
    "print('\\n')\n",
    "\n",
    "msfile_bcal_cntrd = msfile_bcal_corr.split(\".ms\")[0]+'_cntrd.ms'\n",
    "\n",
    "#channelstoavg=16\n",
    "if os.path.exists(os.path.join(basepath, msfile_bcal_cntrd)):\n",
    "    rmtree(os.path.join(basepath, msfile_bcal_cntrd))\n",
    "    rmtree(os.path.join(basepath, msfile_bcal_cntrd.split(\".ms\")[0]+'.flagversions'))\n",
    "\n",
    "#mstransform(vis=os.path.join(basepath, msfile_bcal), outputvis=os.path.join(basepath, msfile_bcal_cntrd), phasecenter=calibrator_coord_hms)\n",
    "mstransform(vis=os.path.join(basepath, msfile_bcal_corr), outputvis=os.path.join(basepath, msfile_bcal_cntrd), phasecenter=phasecenter, datacolumn='all')"
   ]
  },
  {
   "cell_type": "code",
   "execution_count": null,
   "metadata": {},
   "outputs": [
    {
     "name": "stdout",
     "output_type": "stream",
     "text": [
      "Performing phase-only gain calibration on non-centered MS...\n",
      "\n",
      "\n"
     ]
    }
   ],
   "source": [
    "print('Performing phase-only gain calibration on non-centered MS...')\n",
    "print('\\n')\n",
    "\n",
    "#bcalfield = fieldname\n",
    "pcalfield = fieldname_cal\n",
    "\n",
    "#if pcalfield is None:\n",
    "#    pcalfile = f'{calibrator_name}_{msdate}_allfields.pcal'\n",
    "#else:\n",
    "#    pcalfile = f'{calibrator_name}_{msdate}_f{field_cal_idx0}f{field_cal_idx1}.pcal'\n",
    "#pcalfile = 'J1053+1627_2025-03-18T07:02:34_f0f23.pcal'\n",
    "\n",
    "if os.path.exists(os.path.join(basepath, pcalfile)):\n",
    "    rmtree(os.path.join(basepath, pcalfile))\n",
    "\n",
    "if pcalfield is None:\n",
    "\n",
    "    gaincal(vis=os.path.join(basepath, msfile_bcal_cntrd),\n",
    "            field='',\n",
    "            caltable=os.path.join(basepath, pcalfile),\n",
    "            refant=refant,\n",
    "            solint='inf',\n",
    "            calmode='p',\n",
    "            gaintype='G',\n",
    "            minsnr=3,\n",
    "            #gaintable = ['J1132+1628_2025-03-02T08:43:06_f0f23.bcal'],\n",
    "            combine='scan, obs, field',\n",
    "            uvrange='>'+uvrange)\n",
    "\n",
    "else:\n",
    "\n",
    "    gaincal(vis=os.path.join(basepath, msfile_bcal_cntrd),\n",
    "            field=pcalfield,\n",
    "            caltable=os.path.join(basepath, pcalfile),\n",
    "            refant=refant,\n",
    "            solint='inf',\n",
    "            calmode='p',\n",
    "            gaintype='G',\n",
    "            minsnr=3,\n",
    "            #gaintable = ['J1132+1628_2025-03-02T08:43:06_f0f23.bcal'],\n",
    "            combine='scan, obs, field',\n",
    "            uvrange='>'+uvrange)"
   ]
  },
  {
   "cell_type": "code",
   "execution_count": 42,
   "metadata": {},
   "outputs": [],
   "source": [
    "pcal = 'J1053+1627_2025-03-18T07:02:34_f0f23.pcal'\n",
    "msfile_bcal_cntrd = '2025-03-18T07:02:34_ra163.7_dec+16.6_bcal_sb8_corr_cntrd.ms'\n",
    "\n",
    "applycal(vis=os.path.join(basepath, msfile_bcal_cntrd),\n",
    "        field=fieldname_cal,\n",
    "        gaintable=os.path.join(basepath, pcalfile))"
   ]
  },
  {
   "cell_type": "code",
   "execution_count": null,
   "metadata": {},
   "outputs": [],
   "source": []
  }
 ],
 "metadata": {
  "kernelspec": {
   "display_name": "dsa_contimg",
   "language": "python",
   "name": "python3"
  },
  "language_info": {
   "codemirror_mode": {
    "name": "ipython",
    "version": 3
   },
   "file_extension": ".py",
   "mimetype": "text/x-python",
   "name": "python",
   "nbconvert_exporter": "python",
   "pygments_lexer": "ipython3",
   "version": "3.10.16"
  }
 },
 "nbformat": 4,
 "nbformat_minor": 2
}
