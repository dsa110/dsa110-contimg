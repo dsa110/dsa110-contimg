{
 "cells": [
  {
   "cell_type": "code",
   "execution_count": 2,
   "id": "57350bd4",
   "metadata": {},
   "outputs": [],
   "source": [
    "from casatasks import concat\n",
    "import glob, os"
   ]
  },
  {
   "cell_type": "code",
   "execution_count": 6,
   "id": "30bdbb1c",
   "metadata": {},
   "outputs": [],
   "source": [
    "scans = sorted(glob.glob(\"/data/jfaber/dsa110-contimg/pipeline/ms_stage1/J1459_long/*.ms\"))"
   ]
  },
  {
   "cell_type": "code",
   "execution_count": 7,
   "id": "480a300a",
   "metadata": {},
   "outputs": [
    {
     "name": "stdout",
     "output_type": "stream",
     "text": [
      "['/data/jfaber/dsa110-contimg/pipeline/ms_stage1/J1459_long/drift_20250529T055804.ms', '/data/jfaber/dsa110-contimg/pipeline/ms_stage1/J1459_long/drift_20250529T060312.ms', '/data/jfaber/dsa110-contimg/pipeline/ms_stage1/J1459_long/drift_20250529T060825.ms', '/data/jfaber/dsa110-contimg/pipeline/ms_stage1/J1459_long/drift_20250529T061758.ms', '/data/jfaber/dsa110-contimg/pipeline/ms_stage1/J1459_long/drift_20250529T062455.ms', '/data/jfaber/dsa110-contimg/pipeline/ms_stage1/J1459_long/drift_20250529T063004.ms', '/data/jfaber/dsa110-contimg/pipeline/ms_stage1/J1459_long/drift_20250529T063513.ms', '/data/jfaber/dsa110-contimg/pipeline/ms_stage1/J1459_long/drift_20250529T064023.ms', '/data/jfaber/dsa110-contimg/pipeline/ms_stage1/J1459_long/drift_20250529T064532.ms', '/data/jfaber/dsa110-contimg/pipeline/ms_stage1/J1459_long/drift_20250529T065041.ms', '/data/jfaber/dsa110-contimg/pipeline/ms_stage1/J1459_long/drift_20250529T065550.ms']\n"
     ]
    }
   ],
   "source": [
    "print(scans)"
   ]
  },
  {
   "cell_type": "code",
   "execution_count": 8,
   "id": "71d38365",
   "metadata": {},
   "outputs": [],
   "source": [
    "from casatools import table\n",
    "def missing_tel_loc(msname):\n",
    "    tb = table(); tb.open(f'{msname}/OBSERVATION'); ok = 'TELESCOPE_LOCATION' in tb.colnames(); tb.close()\n",
    "    return not ok\n",
    "\n",
    "for ms in scans:                               # scans = list of *_pc.ms\n",
    "    if missing_tel_loc(ms):\n",
    "        print(ms, 'needs TELESCOPE_LOCATION')\n"
   ]
  },
  {
   "cell_type": "code",
   "execution_count": 5,
   "id": "912c0948",
   "metadata": {},
   "outputs": [],
   "source": [
    "# --- define the target phase centre (J1459+716) -------------------\n",
    "pc_ra  = \"14h59m07.583867s\"\n",
    "pc_dec = \"71d40m19.867740s\"\n",
    "new_pc = f\"J2000 {pc_ra} {pc_dec}\"\n"
   ]
  },
  {
   "cell_type": "code",
   "execution_count": null,
   "id": "9444b9ed",
   "metadata": {},
   "outputs": [],
   "source": [
    "from casatasks import phaseshift\n",
    "import glob, os\n",
    "\n",
    "short_scans = sorted(glob.glob(\"/data/jfaber/dsa110-contimg/pipeline/ms_stage1/J1459_long/*_pc.ms\"))\n",
    "shifted     = []\n",
    "\n",
    "for vis in short_scans:\n",
    "    out = vis.replace(\".ms\", \"_pc.ms\")\n",
    "    phaseshift(vis=vis,\n",
    "               outputvis=out,\n",
    "               phasecenter=new_pc,  # apply the shift\n",
    "               datacolumn='DATA')   # or 'CORRECTED'/'ALL'\n",
    "    shifted.append(out)\n"
   ]
  },
  {
   "cell_type": "code",
   "execution_count": null,
   "id": "5bbb1c61",
   "metadata": {},
   "outputs": [
    {
     "name": "stderr",
     "output_type": "stream",
     "text": [
      "2025-06-02 22:10:16\tWARN\tconcat::::casa\tThe setup of the input MSs is not fully consistent. The concatenation may fail\n",
      "2025-06-02 22:10:16\tWARN\tconcat::::casa\tand/or the affected columns may contain partially only default data.\n",
      "2025-06-02 22:10:16\tWARN\tconcat::::casa\t{'/data/jfaber/dsa110-contimg/J1459_2025-05-29/msfiles/base/2025-05-29T05:52:31_ra217.4_dec+71.7_pc.ms': {'Main': {'present_a': True, 'present_b': True, 'missingcol_a': ['SIGMA_SPECTRUM'], 'missingcol_b': []}, 'OBSERVATION': {'present_a': True, 'present_b': True, 'missingcol_a': [], 'missingcol_b': ['TELESCOPE_LOCATION']}}, '/data/jfaber/dsa110-contimg/J1459_2025-05-29/msfiles/base/2025-05-29T05:57:40_ra218.7_dec+71.7_pc.ms': {'Main': {'present_a': True, 'present_b': True, 'missingcol_a': ['SIGMA_SPECTRUM'], 'missingcol_b': []}, 'OBSERVATION': {'present_a': True, 'present_b': True, 'missingcol_a': [], 'missingcol_b': ['TELESCOPE_LOCATION']}}, '/data/jfaber/dsa110-contimg/J1459_2025-05-29/msfiles/base/2025-05-29T06:02:49_ra220.0_dec+71.7_pc.ms': {'Main': {'present_a': True, 'present_b': True, 'missingcol_a': ['SIGMA_SPECTRUM'], 'missingcol_b': []}, 'OBSERVATION': {'present_a': True, 'present_b': True, 'missingcol_a': [], 'missingcol_b': ['TELESCOPE_LOCATION']}}, '/data/jfaber/dsa110-contimg/J1459_2025-05-29/msfiles/base/2025-05-29T06:07:58_ra221.3_dec+71.7_pc.ms': {'Main': {'present_a': True, 'present_b': True, 'missingcol_a': ['SIGMA_SPECTRUM'], 'missingcol_b': []}, 'OBSERVATION': {'present_a': True, 'present_b': True, 'missingcol_a': [], 'missingcol_b': ['TELESCOPE_LOCATION']}}, '/data/jfaber/dsa110-contimg/J1459_2025-05-29/msfiles/base/2025-05-29T06:17:50_ra224.3_dec+71.7_pc.ms': {'Main': {'present_a': True, 'present_b': True, 'missingcol_a': ['SIGMA_SPECTRUM'], 'missingcol_b': []}, 'OBSERVATION': {'present_a': True, 'present_b': True, 'missingcol_a': [], 'missingcol_b': ['TELESCOPE_LOCATION']}}, '/data/jfaber/dsa110-contimg/J1459_2025-05-29/msfiles/base/2025-05-29T06:24:55_ra225.6_dec+71.7_pc.ms': {'Main': {'present_a': True, 'present_b': True, 'missingcol_a': ['SIGMA_SPECTRUM'], 'missingcol_b': []}, 'OBSERVATION': {'present_a': True, 'present_b': True, 'missingcol_a': [], 'missingcol_b': ['TELESCOPE_LOCATION']}}, '/data/jfaber/dsa110-contimg/J1459_2025-05-29/msfiles/base/2025-05-29T06:30:04_ra226.9_dec+71.7_pc.ms': {'Main': {'present_a': True, 'present_b': True, 'missingcol_a': ['SIGMA_SPECTRUM'], 'missingcol_b': []}, 'OBSERVATION': {'present_a': True, 'present_b': True, 'missingcol_a': [], 'missingcol_b': ['TELESCOPE_LOCATION']}}, '/data/jfaber/dsa110-contimg/J1459_2025-05-29/msfiles/base/2025-05-29T06:35:13_ra228.2_dec+71.7_pc.ms': {'Main': {'present_a': True, 'present_b': True, 'missingcol_a': ['SIGMA_SPECTRUM'], 'missingcol_b': []}, 'OBSERVATION': {'present_a': True, 'present_b': True, 'missingcol_a': [], 'missingcol_b': ['TELESCOPE_LOCATION']}}, '/data/jfaber/dsa110-contimg/J1459_2025-05-29/msfiles/base/2025-05-29T06:40:23_ra229.5_dec+71.7_pc.ms': {'Main': {'present_a': True, 'present_b': True, 'missingcol_a': ['SIGMA_SPECTRUM'], 'missingcol_b': []}, 'OBSERVATION': {'present_a': True, 'present_b': True, 'missingcol_a': [], 'missingcol_b': ['TELESCOPE_LOCATION']}}, '/data/jfaber/dsa110-contimg/J1459_2025-05-29/msfiles/base/2025-05-29T06:45:32_ra230.8_dec+71.7_pc.ms': {'Main': {'present_a': True, 'present_b': True, 'missingcol_a': ['SIGMA_SPECTRUM'], 'missingcol_b': []}, 'OBSERVATION': {'present_a': True, 'present_b': True, 'missingcol_a': [], 'missingcol_b': ['TELESCOPE_LOCATION']}}, '/data/jfaber/dsa110-contimg/J1459_2025-05-29/msfiles/base/2025-05-29T06:50:41_ra232.1_dec+71.7_pc.ms': {'Main': {'present_a': True, 'present_b': True, 'missingcol_a': ['SIGMA_SPECTRUM'], 'missingcol_b': []}, 'OBSERVATION': {'present_a': True, 'present_b': True, 'missingcol_a': [], 'missingcol_b': ['TELESCOPE_LOCATION']}}, '/data/jfaber/dsa110-contimg/J1459_2025-05-29/msfiles/base/2025-05-29T06:55:50_ra233.4_dec+71.7_pc.ms': {'Main': {'present_a': True, 'present_b': True, 'missingcol_a': ['SIGMA_SPECTRUM'], 'missingcol_b': []}, 'OBSERVATION': {'present_a': True, 'present_b': True, 'missingcol_a': [], 'missingcol_b': ['TELESCOPE_LOCATION']}}}\n",
      "2025-06-02 22:10:16\tWARN\tconcat::::casa\tWill be concatenating into the existing ms J1459+716_60min.ms\n",
      "2025-06-02 22:10:24\tWARN\tMSConcat::checkCategories\tFlag category column shape does not match in these two MSs.\n",
      "2025-06-02 22:10:24\tWARN\tMSConcat::checkCategories+\tThis may not be important as Flag category is being deprecated. Will try to continue ...\n",
      "2025-06-02 22:10:24\tSEVERE\tms::concatenate\tException Reported: TableRow::put; names not conforming\n",
      "2025-06-02 22:10:24\tSEVERE\tconcat::::casa\tTask concat raised an exception of class RuntimeError with the following message: TableRow::put; names not conforming\n"
     ]
    },
    {
     "ename": "RuntimeError",
     "evalue": "TableRow::put; names not conforming",
     "output_type": "error",
     "traceback": [
      "\u001b[0;31m---------------------------------------------------------------------------\u001b[0m\n",
      "\u001b[0;31mRuntimeError\u001b[0m                              Traceback (most recent call last)\n",
      "Cell \u001b[0;32mIn[11], line 1\u001b[0m\n",
      "\u001b[0;32m----> 1\u001b[0m \u001b[43mconcat\u001b[49m\u001b[43m(\u001b[49m\u001b[43mvis\u001b[49m\u001b[38;5;241;43m=\u001b[39;49m\u001b[43mshifted\u001b[49m\u001b[43m,\u001b[49m\n",
      "\u001b[1;32m      2\u001b[0m \u001b[43m       \u001b[49m\u001b[43mconcatvis\u001b[49m\u001b[38;5;241;43m=\u001b[39;49m\u001b[38;5;124;43m'\u001b[39;49m\u001b[38;5;124;43mJ1459+716_60min.ms\u001b[39;49m\u001b[38;5;124;43m'\u001b[39;49m\u001b[43m,\u001b[49m\n",
      "\u001b[1;32m      3\u001b[0m \u001b[43m       \u001b[49m\u001b[43mtimesort\u001b[49m\u001b[38;5;241;43m=\u001b[39;49m\u001b[38;5;28;43;01mTrue\u001b[39;49;00m\u001b[43m,\u001b[49m\u001b[43m      \u001b[49m\u001b[38;5;66;43;03m# chronological order\u001b[39;49;00m\n",
      "\u001b[1;32m      4\u001b[0m \u001b[43m       \u001b[49m\u001b[43mcopypointing\u001b[49m\u001b[38;5;241;43m=\u001b[39;49m\u001b[38;5;28;43;01mTrue\u001b[39;49;00m\u001b[43m,\u001b[49m\n",
      "\u001b[1;32m      5\u001b[0m \u001b[43m       \u001b[49m\u001b[43mfreqtol\u001b[49m\u001b[38;5;241;43m=\u001b[39;49m\u001b[38;5;124;43m'\u001b[39;49m\u001b[38;5;124;43m10kHz\u001b[39;49m\u001b[38;5;124;43m'\u001b[39;49m\u001b[43m,\u001b[49m\n",
      "\u001b[1;32m      6\u001b[0m \u001b[43m       \u001b[49m\u001b[43mdirtol\u001b[49m\u001b[38;5;241;43m=\u001b[39;49m\u001b[38;5;124;43m'\u001b[39;49m\u001b[38;5;124;43m1arcsec\u001b[39;49m\u001b[38;5;124;43m'\u001b[39;49m\u001b[43m)\u001b[49m  \u001b[38;5;66;03m# keep POINTING table\u001b[39;00m\n",
      "\n",
      "File \u001b[0;32m/data/jfaber/conda/envs/dsa_contimg/lib/python3.10/site-packages/casatasks/concat.py:152\u001b[0m, in \u001b[0;36m_concat.__call__\u001b[0;34m(self, vis, concatvis, freqtol, dirtol, respectname, timesort, copypointing, visweightscale, forcesingleephemfield)\u001b[0m\n",
      "\u001b[1;32m    150\u001b[0m task_result \u001b[38;5;241m=\u001b[39m \u001b[38;5;28;01mNone\u001b[39;00m\n",
      "\u001b[1;32m    151\u001b[0m \u001b[38;5;28;01mtry\u001b[39;00m:\n",
      "\u001b[0;32m--> 152\u001b[0m     task_result \u001b[38;5;241m=\u001b[39m \u001b[43m_concat_t\u001b[49m\u001b[43m(\u001b[49m\u001b[43m \u001b[49m\u001b[43m_pc\u001b[49m\u001b[38;5;241;43m.\u001b[39;49m\u001b[43mdocument\u001b[49m\u001b[43m[\u001b[49m\u001b[38;5;124;43m'\u001b[39;49m\u001b[38;5;124;43mvis\u001b[39;49m\u001b[38;5;124;43m'\u001b[39;49m\u001b[43m]\u001b[49m\u001b[43m,\u001b[49m\u001b[43m \u001b[49m\u001b[43m_pc\u001b[49m\u001b[38;5;241;43m.\u001b[39;49m\u001b[43mdocument\u001b[49m\u001b[43m[\u001b[49m\u001b[38;5;124;43m'\u001b[39;49m\u001b[38;5;124;43mconcatvis\u001b[39;49m\u001b[38;5;124;43m'\u001b[39;49m\u001b[43m]\u001b[49m\u001b[43m,\u001b[49m\u001b[43m \u001b[49m\u001b[43m_pc\u001b[49m\u001b[38;5;241;43m.\u001b[39;49m\u001b[43mdocument\u001b[49m\u001b[43m[\u001b[49m\u001b[38;5;124;43m'\u001b[39;49m\u001b[38;5;124;43mfreqtol\u001b[39;49m\u001b[38;5;124;43m'\u001b[39;49m\u001b[43m]\u001b[49m\u001b[43m,\u001b[49m\u001b[43m \u001b[49m\u001b[43m_pc\u001b[49m\u001b[38;5;241;43m.\u001b[39;49m\u001b[43mdocument\u001b[49m\u001b[43m[\u001b[49m\u001b[38;5;124;43m'\u001b[39;49m\u001b[38;5;124;43mdirtol\u001b[39;49m\u001b[38;5;124;43m'\u001b[39;49m\u001b[43m]\u001b[49m\u001b[43m,\u001b[49m\u001b[43m \u001b[49m\u001b[43m_pc\u001b[49m\u001b[38;5;241;43m.\u001b[39;49m\u001b[43mdocument\u001b[49m\u001b[43m[\u001b[49m\u001b[38;5;124;43m'\u001b[39;49m\u001b[38;5;124;43mrespectname\u001b[39;49m\u001b[38;5;124;43m'\u001b[39;49m\u001b[43m]\u001b[49m\u001b[43m,\u001b[49m\u001b[43m \u001b[49m\u001b[43m_pc\u001b[49m\u001b[38;5;241;43m.\u001b[39;49m\u001b[43mdocument\u001b[49m\u001b[43m[\u001b[49m\u001b[38;5;124;43m'\u001b[39;49m\u001b[38;5;124;43mtimesort\u001b[39;49m\u001b[38;5;124;43m'\u001b[39;49m\u001b[43m]\u001b[49m\u001b[43m,\u001b[49m\u001b[43m \u001b[49m\u001b[43m_pc\u001b[49m\u001b[38;5;241;43m.\u001b[39;49m\u001b[43mdocument\u001b[49m\u001b[43m[\u001b[49m\u001b[38;5;124;43m'\u001b[39;49m\u001b[38;5;124;43mcopypointing\u001b[39;49m\u001b[38;5;124;43m'\u001b[39;49m\u001b[43m]\u001b[49m\u001b[43m,\u001b[49m\u001b[43m \u001b[49m\u001b[43m_pc\u001b[49m\u001b[38;5;241;43m.\u001b[39;49m\u001b[43mdocument\u001b[49m\u001b[43m[\u001b[49m\u001b[38;5;124;43m'\u001b[39;49m\u001b[38;5;124;43mvisweightscale\u001b[39;49m\u001b[38;5;124;43m'\u001b[39;49m\u001b[43m]\u001b[49m\u001b[43m,\u001b[49m\u001b[43m \u001b[49m\u001b[43m_pc\u001b[49m\u001b[38;5;241;43m.\u001b[39;49m\u001b[43mdocument\u001b[49m\u001b[43m[\u001b[49m\u001b[38;5;124;43m'\u001b[39;49m\u001b[38;5;124;43mforcesingleephemfield\u001b[39;49m\u001b[38;5;124;43m'\u001b[39;49m\u001b[43m]\u001b[49m\u001b[43m \u001b[49m\u001b[43m)\u001b[49m\n",
      "\u001b[1;32m    153\u001b[0m \u001b[38;5;28;01mexcept\u001b[39;00m \u001b[38;5;167;01mException\u001b[39;00m \u001b[38;5;28;01mas\u001b[39;00m exc:\n",
      "\u001b[1;32m    154\u001b[0m     _except_log(\u001b[38;5;124m'\u001b[39m\u001b[38;5;124mconcat\u001b[39m\u001b[38;5;124m'\u001b[39m, exc)\n",
      "\n",
      "File \u001b[0;32m/data/jfaber/conda/envs/dsa_contimg/lib/python3.10/site-packages/casatasks/private/task_concat.py:404\u001b[0m, in \u001b[0;36mconcat\u001b[0;34m(vislist, concatvis, freqtol, dirtol, respectname, timesort, copypointing, visweightscale, forcesingleephemfield)\u001b[0m\n",
      "\u001b[1;32m    402\u001b[0m                         shutil\u001b[38;5;241m.\u001b[39mrmtree(tempname, ignore_errors\u001b[38;5;241m=\u001b[39m\u001b[38;5;28;01mTrue\u001b[39;00m)\n",
      "\u001b[1;32m    403\u001b[0m         \u001b[38;5;28;01melse\u001b[39;00m:\n",
      "\u001b[0;32m--> 404\u001b[0m                 \u001b[43mm\u001b[49m\u001b[38;5;241;43m.\u001b[39;49m\u001b[43mconcatenate\u001b[49m\u001b[43m(\u001b[49m\u001b[43mmsfile\u001b[49m\u001b[38;5;241;43m=\u001b[39;49m\u001b[43melvis\u001b[49m\u001b[43m,\u001b[49m\u001b[43mfreqtol\u001b[49m\u001b[38;5;241;43m=\u001b[39;49m\u001b[43mfreqtol\u001b[49m\u001b[43m,\u001b[49m\u001b[43mdirtol\u001b[49m\u001b[38;5;241;43m=\u001b[39;49m\u001b[43mdirtol\u001b[49m\u001b[43m,\u001b[49m\u001b[43mrespectname\u001b[49m\u001b[38;5;241;43m=\u001b[39;49m\u001b[43mrespectname\u001b[49m\u001b[43m,\u001b[49m\n",
      "\u001b[1;32m    405\u001b[0m \u001b[43m                              \u001b[49m\u001b[43mweightscale\u001b[49m\u001b[38;5;241;43m=\u001b[39;49m\u001b[43mwscale\u001b[49m\u001b[43m,\u001b[49m\u001b[43mhandling\u001b[49m\u001b[38;5;241;43m=\u001b[39;49m\u001b[43mhandlingswitch\u001b[49m\u001b[43m,\u001b[49m\n",
      "\u001b[1;32m    406\u001b[0m \u001b[43m                              \u001b[49m\u001b[43mdestmsfile\u001b[49m\u001b[38;5;241;43m=\u001b[39;49m\u001b[43mdestms\u001b[49m\u001b[43m)\u001b[49m\n",
      "\u001b[1;32m    408\u001b[0m \u001b[38;5;28;01mif\u001b[39;00m timesort:\n",
      "\u001b[1;32m    409\u001b[0m         casalog\u001b[38;5;241m.\u001b[39mpost(\u001b[38;5;124m'\u001b[39m\u001b[38;5;124mSorting main table by TIME ...\u001b[39m\u001b[38;5;124m'\u001b[39m, \u001b[38;5;124m'\u001b[39m\u001b[38;5;124mINFO\u001b[39m\u001b[38;5;124m'\u001b[39m)\n",
      "\n",
      "File \u001b[0;32m/data/jfaber/conda/envs/dsa_contimg/lib/python3.10/site-packages/casatools/ms.py:479\u001b[0m, in \u001b[0;36mms.concatenate\u001b[0;34m(self, msfile, freqtol, dirtol, weightscale, handling, destmsfile, respectname)\u001b[0m\n",
      "\u001b[1;32m    469\u001b[0m \u001b[38;5;28;01mdef\u001b[39;00m \u001b[38;5;21mconcatenate\u001b[39m(\u001b[38;5;28mself\u001b[39m, msfile\u001b[38;5;241m=\u001b[39m\u001b[38;5;124m'\u001b[39m\u001b[38;5;124m'\u001b[39m, freqtol\u001b[38;5;241m=\u001b[39m[ ], dirtol\u001b[38;5;241m=\u001b[39m[ ], weightscale\u001b[38;5;241m=\u001b[39m\u001b[38;5;28mfloat\u001b[39m(\u001b[38;5;241m1.\u001b[39m), handling\u001b[38;5;241m=\u001b[39m\u001b[38;5;28mint\u001b[39m(\u001b[38;5;241m0\u001b[39m), destmsfile\u001b[38;5;241m=\u001b[39m\u001b[38;5;124m'\u001b[39m\u001b[38;5;124m'\u001b[39m, respectname\u001b[38;5;241m=\u001b[39m\u001b[38;5;28;01mFalse\u001b[39;00m):\n",
      "\u001b[1;32m    470\u001b[0m \u001b[38;5;250m    \u001b[39m\u001b[38;5;124;03m\"\"\"This function concatenates two measurement sets together.\u001b[39;00m\n",
      "\u001b[1;32m    471\u001b[0m \u001b[38;5;124;03m    \u001b[39;00m\n",
      "\u001b[1;32m    472\u001b[0m \u001b[38;5;124;03m    The data is copied from the measurement set specified in the\u001b[39;00m\n",
      "\u001b[0;32m   (...)\u001b[0m\n",
      "\u001b[1;32m    477\u001b[0m \u001b[38;5;124;03m    \u001b[39;00m\n",
      "\u001b[1;32m    478\u001b[0m \u001b[38;5;124;03m    \"\"\"\u001b[39;00m\n",
      "\u001b[0;32m--> 479\u001b[0m     \u001b[38;5;28;01mreturn\u001b[39;00m \u001b[38;5;28;43mself\u001b[39;49m\u001b[38;5;241;43m.\u001b[39;49m\u001b[43m_swigobj\u001b[49m\u001b[38;5;241;43m.\u001b[39;49m\u001b[43mconcatenate\u001b[49m\u001b[43m(\u001b[49m\u001b[43mmsfile\u001b[49m\u001b[43m,\u001b[49m\u001b[43m \u001b[49m\u001b[43mfreqtol\u001b[49m\u001b[43m,\u001b[49m\u001b[43m \u001b[49m\u001b[43mdirtol\u001b[49m\u001b[43m,\u001b[49m\u001b[43m \u001b[49m\u001b[43mweightscale\u001b[49m\u001b[43m,\u001b[49m\u001b[43m \u001b[49m\u001b[43mhandling\u001b[49m\u001b[43m,\u001b[49m\u001b[43m \u001b[49m\u001b[43mdestmsfile\u001b[49m\u001b[43m,\u001b[49m\u001b[43m \u001b[49m\u001b[43mrespectname\u001b[49m\u001b[43m)\u001b[49m\n",
      "\n",
      "File \u001b[0;32m/data/jfaber/conda/envs/dsa_contimg/lib/python3.10/site-packages/casatools/__casac__/ms.py:1008\u001b[0m, in \u001b[0;36mms.concatenate\u001b[0;34m(self, *args, **kwargs)\u001b[0m\n",
      "\u001b[1;32m    963\u001b[0m \u001b[38;5;28;01mdef\u001b[39;00m \u001b[38;5;21mconcatenate\u001b[39m(\u001b[38;5;28mself\u001b[39m, \u001b[38;5;241m*\u001b[39margs, \u001b[38;5;241m*\u001b[39m\u001b[38;5;241m*\u001b[39mkwargs):\n",
      "\u001b[1;32m    964\u001b[0m \u001b[38;5;250m    \u001b[39m\u001b[38;5;124;03m\"\"\"\u001b[39;00m\n",
      "\u001b[1;32m    965\u001b[0m \u001b[38;5;124;03m    concatenate(self, _msfile, _freqtol, _dirtol, _weightscale, _handling, _destmsfile, _respectname) -> bool\u001b[39;00m\n",
      "\u001b[1;32m    966\u001b[0m \n",
      "\u001b[0;32m   (...)\u001b[0m\n",
      "\u001b[1;32m   1006\u001b[0m \n",
      "\u001b[1;32m   1007\u001b[0m \u001b[38;5;124;03m    \"\"\"\u001b[39;00m\n",
      "\u001b[0;32m-> 1008\u001b[0m     \u001b[38;5;28;01mreturn\u001b[39;00m \u001b[43m_ms\u001b[49m\u001b[38;5;241;43m.\u001b[39;49m\u001b[43mms_concatenate\u001b[49m\u001b[43m(\u001b[49m\u001b[38;5;28;43mself\u001b[39;49m\u001b[43m,\u001b[49m\u001b[43m \u001b[49m\u001b[38;5;241;43m*\u001b[39;49m\u001b[43margs\u001b[49m\u001b[43m,\u001b[49m\u001b[43m \u001b[49m\u001b[38;5;241;43m*\u001b[39;49m\u001b[38;5;241;43m*\u001b[39;49m\u001b[43mkwargs\u001b[49m\u001b[43m)\u001b[49m\n",
      "\n",
      "\u001b[0;31mRuntimeError\u001b[0m: TableRow::put; names not conforming"
     ]
    }
   ],
   "source": []
  }
 ],
 "metadata": {
  "kernelspec": {
   "display_name": "dsa_contimg",
   "language": "python",
   "name": "python3"
  },
  "language_info": {
   "codemirror_mode": {
    "name": "ipython",
    "version": 3
   },
   "file_extension": ".py",
   "mimetype": "text/x-python",
   "name": "python",
   "nbconvert_exporter": "python",
   "pygments_lexer": "ipython3",
   "version": "3.10.16"
  }
 },
 "nbformat": 4,
 "nbformat_minor": 5
}
