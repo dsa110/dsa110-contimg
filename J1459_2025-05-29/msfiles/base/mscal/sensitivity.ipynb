{
 "cells": [
  {
   "cell_type": "code",
   "execution_count": 1,
   "id": "b3c014e2",
   "metadata": {},
   "outputs": [],
   "source": [
    "import casatools\n",
    "import casatasks\n",
    "import numpy as np\n",
    "import glob, os\n",
    "from astropy.coordinates import SkyCoord\n",
    "from astropy import units as u"
   ]
  },
  {
   "cell_type": "code",
   "execution_count": 2,
   "id": "557db851",
   "metadata": {},
   "outputs": [],
   "source": [
    "def plot_calibration_solutions_detailed(bp_table, phase_table, amp_table, cal_field):\n",
    "    \"\"\"\n",
    "    Plot calibration solutions with proper labeling\n",
    "    \"\"\"\n",
    "    \n",
    "    print(f\"Plotting calibration solutions for field {cal_field}...\")\n",
    "    \n",
    "    # Bandpass amplitude vs frequency\n",
    "    casatasks.plotcal(\n",
    "        caltable=bp_table,\n",
    "        xaxis='freq',\n",
    "        yaxis='amp',\n",
    "        iteration='antenna',\n",
    "        plotfile=f'bandpass_amp_field{cal_field}.png',\n",
    "        showgui=False\n",
    "    )\n",
    "    \n",
    "    # Bandpass phase vs frequency  \n",
    "    casatasks.plotcal(\n",
    "        caltable=bp_table,\n",
    "        xaxis='freq',\n",
    "        yaxis='phase',\n",
    "        iteration='antenna',\n",
    "        plotfile=f'bandpass_phase_field{cal_field}.png',\n",
    "        showgui=False\n",
    "    )\n",
    "    \n",
    "    # Gain amplitude vs time\n",
    "    casatasks.plotcal(\n",
    "        caltable=amp_table,\n",
    "        xaxis='time',\n",
    "        yaxis='amp',\n",
    "        iteration='antenna',\n",
    "        plotfile=f'gains_amp_vs_time_field{cal_field}.png',\n",
    "        showgui=False\n",
    "    )\n",
    "    \n",
    "    # Gain phase vs time\n",
    "    casatasks.plotcal(\n",
    "        caltable=amp_table,\n",
    "        xaxis='time', \n",
    "        yaxis='phase',\n",
    "        iteration='antenna',\n",
    "        plotfile=f'gains_phase_vs_time_field{cal_field}.png',\n",
    "        showgui=False\n",
    "    )\n",
    "    \n",
    "    # Summary plot - all antennas, amplitude vs time\n",
    "    casatasks.plotcal(\n",
    "        caltable=amp_table,\n",
    "        xaxis='time',\n",
    "        yaxis='amp',\n",
    "        antenna='',\n",
    "        coloraxis='antenna',\n",
    "        plotfile=f'gains_summary_field{cal_field}.png',\n",
    "        showgui=False\n",
    "    )\n",
    "    \n",
    "    print(\"✓ All calibration plots saved!\")"
   ]
  },
  {
   "cell_type": "code",
   "execution_count": null,
   "id": "d393f0d9",
   "metadata": {},
   "outputs": [],
   "source": []
  }
 ],
 "metadata": {
  "kernelspec": {
   "display_name": "dsa_contimg",
   "language": "python",
   "name": "python3"
  },
  "language_info": {
   "codemirror_mode": {
    "name": "ipython",
    "version": 3
   },
   "file_extension": ".py",
   "mimetype": "text/x-python",
   "name": "python",
   "nbconvert_exporter": "python",
   "pygments_lexer": "ipython3",
   "version": "3.10.16"
  }
 },
 "nbformat": 4,
 "nbformat_minor": 5
}
