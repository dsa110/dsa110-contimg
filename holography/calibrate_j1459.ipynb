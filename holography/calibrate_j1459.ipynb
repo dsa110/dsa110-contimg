{
 "cells": [
  {
   "cell_type": "code",
   "execution_count": 7,
   "id": "d7d9ec1b",
   "metadata": {},
   "outputs": [],
   "source": [
    "#!/usr/bin/env python\n",
    "\"\"\"\n",
    "Calculate SEFD for DSA-110 using CASA measurement sets\n",
    "\"\"\"\n",
    "\n",
    "import numpy as np\n",
    "import matplotlib.pyplot as plt\n",
    "from casatasks import clearcal, delmod, rmtables, flagdata, bandpass, ft, mstransform, gaincal, applycal, listobs, split\n",
    "from casatools import msmetadata, table\n",
    "import os\n"
   ]
  },
  {
   "cell_type": "code",
   "execution_count": 4,
   "id": "cf4c057d",
   "metadata": {},
   "outputs": [],
   "source": [
    "ms_path = '/data/jfaber/dsa110-contimg/holography/J1459_250529_60min_centered.ms'"
   ]
  },
  {
   "cell_type": "code",
   "execution_count": 8,
   "id": "fcd5b7bc",
   "metadata": {},
   "outputs": [
    {
     "name": "stdout",
     "output_type": "stream",
     "text": [
      "Start time: 2025-05-31 07:39:12.143044\n",
      "End time: 2025-05-31 08:47:28.101154\n",
      "Duration: 1:08:15.958110\n"
     ]
    }
   ],
   "source": [
    "from casatools import ms\n",
    "import datetime\n",
    "\n",
    "# Open the measurement set\n",
    "ms_tool = ms()\n",
    "ms_tool.open(ms_path)\n",
    "\n",
    "# Get the time column\n",
    "times = ms_tool.getdata(['time'])['time']\n",
    "ms_tool.close()\n",
    "\n",
    "# Convert from MJD seconds to datetime\n",
    "start_time = datetime.datetime.utcfromtimestamp(times.min() - 3506537600)\n",
    "end_time = datetime.datetime.utcfromtimestamp(times.max() - 3506537600)\n",
    "\n",
    "# Compute duration\n",
    "duration = end_time - start_time\n",
    "\n",
    "print(f\"Start time: {start_time}\")\n",
    "print(f\"End time: {end_time}\")\n",
    "print(f\"Duration: {duration}\")\n"
   ]
  },
  {
   "cell_type": "code",
   "execution_count": null,
   "id": "ac5d8a42",
   "metadata": {},
   "outputs": [
    {
     "name": "stdout",
     "output_type": "stream",
     "text": [
      "Applying TFCrop RFI flagging to /data/jfaber/dsa110-contimg/holography/J1459_250529_60min_centered.ms\n"
     ]
    }
   ],
   "source": [
    "print(f\"Applying TFCrop RFI flagging to {ms_path}\")\n",
    "\n",
    "calmode='tfcrop'\n",
    "calcolumn='data' \n",
    "timecutoff=3.0 \n",
    "freqcutoff=3.0 \n",
    "maxnpieces=1\n",
    "growfreq=25\n",
    "combinescans=True \n",
    "ntime='4096s'\n",
    "diagnostic_plot=False\n",
    "\n",
    "flagdata(\n",
    "        vis=ms_path, \n",
    "        field='', \n",
    "        mode=calmode, \n",
    "        datacolumn=calcolumn, \n",
    "        action='apply', \n",
    "        timecutoff=timecutoff, \n",
    "        freqcutoff=freqcutoff, \n",
    "        maxnpieces=maxnpieces, \n",
    "        growfreq=growfreq, \n",
    "        combinescans=combinescans, \n",
    "        ntime=ntime\n",
    "        )\n",
    "print(f\"TFCrop RFI flagging completed for {ms_path}\")\n",
    "\n"
   ]
  },
  {
   "cell_type": "code",
   "execution_count": null,
   "id": "1a73086c",
   "metadata": {},
   "outputs": [],
   "source": [
    "setjy(vis=ms_path,\n",
    "       field='117',\n",
    "       standard='Perley Butler 2017',\n",
    "       spw='',\n",
    "       usescratch=True)\n",
    "\n",
    "bcalfile = f'{clfile.split(\".cl\")[0]}_{msdate}_f{first_field}f{last_field}.bcal'\n",
    "\n",
    "bandpass(vis=ms_path,\n",
    "        field=fieldnames,\n",
    "        caltable=os.path.join(basepath, 'bcalfiles', bcalfile),\n",
    "        refant=refant,\n",
    "        solint='inf',\n",
    "        bandtype='B',\n",
    "        combine='scan, obs, field',\n",
    "        uvrange=uvrange)\n"
   ]
  },
  {
   "cell_type": "code",
   "execution_count": null,
   "id": "fb5e7837",
   "metadata": {},
   "outputs": [],
   "source": []
  }
 ],
 "metadata": {
  "kernelspec": {
   "display_name": "dsa_contimg",
   "language": "python",
   "name": "python3"
  },
  "language_info": {
   "codemirror_mode": {
    "name": "ipython",
    "version": 3
   },
   "file_extension": ".py",
   "mimetype": "text/x-python",
   "name": "python",
   "nbconvert_exporter": "python",
   "pygments_lexer": "ipython3",
   "version": "3.10.16"
  }
 },
 "nbformat": 4,
 "nbformat_minor": 5
}
