{
 "cells": [
  {
   "cell_type": "markdown",
   "id": "29e9cfa6",
   "metadata": {},
   "source": [
    "# DSA-110 Bandpass Calibration — PB-threshold window + field-combine\n",
    "\n",
    "This notebook reflects the updated method:\n",
    "- Fast QA ranks refant (writes `refant_ranking.json`).\n",
    "- Auto-selects a contiguous FIELD window around the PB peak using a primary-beam gain threshold (`--bp-min-pb`).\n",
    "- Solves K, then Bandpass/Gains with `combine='scan,field'` across the selected window (optional).\n",
    "\n",
    "Run this with a CASA 6 kernel (casatools/casatasks available)."
   ]
  },
  {
   "cell_type": "code",
   "execution_count": 1,
   "id": "89210cc2",
   "metadata": {},
   "outputs": [
    {
     "data": {
      "text/plain": [
       "'/scratch/dsa110-contimg/data-samples/ms/0834_555_transit_reconv3/2025-10-03T15:15:58.ms'"
      ]
     },
     "execution_count": 1,
     "metadata": {},
     "output_type": "execute_result"
    }
   ],
   "source": [
    "# Setup\n",
    "import os, sys, json\n",
    "# Be conservative with threading to avoid BLAS/OMP conflicts in CASA\n",
    "os.environ.setdefault('OMP_NUM_THREADS', '1')\n",
    "os.environ.setdefault('OPENBLAS_NUM_THREADS', '1')\n",
    "os.environ.setdefault('MKL_NUM_THREADS', '1')\n",
    "os.environ.setdefault('NUMEXPR_NUM_THREADS', '1')\n",
    "\n",
    "sys.path.insert(0, os.path.abspath('../../src'))  # ensure dsa110_contimg is importable\n",
    "\n",
    "# Measurement Set path (adjust as needed)\n",
    "MS = '/scratch/dsa110-contimg/data-samples/ms/0834_555_transit_reconv3/2025-10-03T15:15:58.ms'\n",
    "\n",
    "# VLA calibrator catalog\n",
    "CAL_CATALOG = '/data/dsa110-contimg/data-samples/catalogs/vlacalibrators.txt'\n",
    "\n",
    "# Auto-selection configuration\n",
    "CAL_SEARCH_RADIUS_DEG = 2.0   # search radius for catalog candidates (deg)\n",
    "BP_MIN_PB = 0.98              # PB gain threshold (relative to peak)\n",
    "BP_WINDOW_FALLBACK = 3        # fallback window if threshold is not used\n",
    "COMBINE_FIELDS = True         # combine fields for BP/G solves\n",
    "DO_FLAGGING = False           # pre-solve flagging (set True if needed)\n",
    "\n",
    "# QA output directory\n",
    "QA_DIR = '/tmp/qa-auto'\n",
    "os.makedirs(QA_DIR, exist_ok=True)\n",
    "\n",
    "MS"
   ]
  },
  {
   "cell_type": "code",
   "execution_count": 2,
   "id": "6685fdd5",
   "metadata": {},
   "outputs": [
    {
     "name": "stdout",
     "output_type": "stream",
     "text": [
      "Successful readonly open of default-locked table /scratch/dsa110-contimg/data-samples/ms/0834_555_transit_reconv3/2025-10-03T15:15:58.ms: 25 columns, 111744 rows\n",
      "Successful readonly open of default-locked table /scratch/dsa110-contimg/data-samples/ms/0834_555_transit_reconv3/2025-10-03T15:15:58.ms::DATA_DESCRIPTION: 3 columns, 1 rows\n",
      "Successful readonly open of default-locked table /scratch/dsa110-contimg/data-samples/ms/0834_555_transit_reconv3/2025-10-03T15:15:58.ms::SPECTRAL_WINDOW: 14 columns, 1 rows\n",
      "Successful readonly open of default-locked table /scratch/dsa110-contimg/data-samples/ms/0834_555_transit_reconv3/2025-10-03T15:15:58.ms::ANTENNA: 8 columns, 117 rows\n",
      "Successful readonly open of default-locked table /scratch/dsa110-contimg/data-samples/ms/0834_555_transit_reconv3/2025-10-03T15:15:58.ms::ANTENNA: 8 columns, 117 rows\n",
      "Fast QA artifacts: ['amp_vs_time_fast.png', 'amp_vs_freq_fast.png', 'phase_vs_freq_fast.png', 'uv_plane_fast.png', 'per_antenna_metrics_fast.png', 'phase_sigma_sorted_fast.png', 'coherence_vs_flagged_fast.png', 'per_antenna_phase_polar_fast.png', 'phase_heatmap_fast.png', 'refant_ranking.json', 'refant_ranking.csv']\n",
      "Recommended refant: 67\n"
     ]
    },
    {
     "data": {
      "text/plain": [
       "67"
      ]
     },
     "execution_count": 2,
     "metadata": {},
     "output_type": "execute_result"
    }
   ],
   "source": [
    "# 1) Fast QA to rank refant\n",
    "from dsa110_contimg.qa.fast_plots import run_fast_plots\n",
    "\n",
    "arts = run_fast_plots(MS, output_dir=QA_DIR)\n",
    "print('Fast QA artifacts:', arts)\n",
    "\n",
    "with open(os.path.join(QA_DIR, 'refant_ranking.json'), 'r', encoding='utf-8') as f:\n",
    "    refant = json.load(f)['recommended']['antenna_id']\n",
    "print('Recommended refant:', refant)\n",
    "refant"
   ]
  },
  {
   "cell_type": "code",
   "execution_count": 3,
   "id": "04d19b6f",
   "metadata": {},
   "outputs": [
    {
     "name": "stdout",
     "output_type": "stream",
     "text": [
      "Successful readonly open of default-locked table /scratch/dsa110-contimg/data-samples/ms/0834_555_transit_reconv3/2025-10-03T15:15:58.ms::FIELD: 9 columns, 24 rows\n",
      "Calibrator: 0824+558 (RA 126.1968 deg, Dec 55.8785 deg, flux 1.200 Jy)\n",
      "Selected fields: 17~23 indices: [17, 18, 19, 20, 21, 22, 23]\n"
     ]
    },
    {
     "name": "stderr",
     "output_type": "stream",
     "text": [
      "/tmp/ipykernel_62521/527142941.py:23: UserWarning: FigureCanvasAgg is non-interactive, and thus cannot be shown\n",
      "  plt.show()\n"
     ]
    },
    {
     "data": {
      "text/plain": [
       "'17~23'"
      ]
     },
     "execution_count": 3,
     "metadata": {},
     "output_type": "execute_result"
    }
   ],
   "source": [
    "# 2) Catalog-based field selection with PB threshold\n",
    "from dsa110_contimg.calibration.selection import select_bandpass_from_catalog\n",
    "\n",
    "sel_str, indices, wflux, calinfo = select_bandpass_from_catalog(\n",
    "    MS, CAL_CATALOG, search_radius_deg=CAL_SEARCH_RADIUS_DEG,\n",
    "    window=BP_WINDOW_FALLBACK, min_pb=BP_MIN_PB\n",
    ")\n",
    "name, ra_deg, dec_deg, flux_jy = calinfo\n",
    "print(f'Calibrator: {name} (RA {ra_deg:.4f} deg, Dec {dec_deg:.4f} deg, flux {flux_jy:.3f} Jy)')\n",
    "print('Selected fields:', sel_str, 'indices:', indices)\n",
    "\n",
    "# Quick plot of PB-weighted flux per field\n",
    "import numpy as np\n",
    "import matplotlib.pyplot as plt\n",
    "plt.figure(figsize=(8,3))\n",
    "plt.plot(np.arange(len(wflux)), wflux, '-o', ms=3)\n",
    "plt.axvspan(indices[0]-0.5, indices[-1]+0.5, color='orange', alpha=0.2, label='selected')\n",
    "plt.xlabel('Field index')\n",
    "plt.ylabel('PB-weighted flux (Jy)')\n",
    "plt.title('Bandpass field auto-selection (PB threshold)')\n",
    "plt.legend()\n",
    "plt.tight_layout()\n",
    "plt.show()\n",
    "\n",
    "sel_str"
   ]
  },
  {
   "cell_type": "code",
   "execution_count": 4,
   "id": "46e33897",
   "metadata": {},
   "outputs": [
    {
     "name": "stdout",
     "output_type": "stream",
     "text": [
      "Solving delay (K) ...\n"
     ]
    },
    {
     "ename": "",
     "evalue": "",
     "output_type": "error",
     "traceback": [
      "\u001b[1;31mThe Kernel crashed while executing code in the current cell or a previous cell. \n",
      "\u001b[1;31mPlease review the code in the cell(s) to identify a possible cause of the failure. \n",
      "\u001b[1;31mClick <a href='https://aka.ms/vscodeJupyterKernelCrash'>here</a> for more info. \n",
      "\u001b[1;31mView Jupyter <a href='command:jupyter.viewOutput'>log</a> for further details."
     ]
    }
   ],
   "source": [
    "# 3) Solve K, then BP/G (optionally combining fields)\n",
    "from importlib.util import find_spec\n",
    "if find_spec('casatasks') is None or find_spec('casatools') is None:\n",
    "    raise RuntimeError('CASA not available in this kernel. Switch to a CASA 6 kernel.')\n",
    "\n",
    "from dsa110_contimg.calibration.calibration import solve_delay, solve_bandpass, solve_gains\n",
    "from dsa110_contimg.calibration.flagging import reset_flags, flag_zeros, flag_rfi\n",
    "\n",
    "if DO_FLAGGING:\n",
    "    reset_flags(MS); flag_zeros(MS); flag_rfi(MS)\n",
    "\n",
    "print('Solving delay (K) ...')\n",
    "ktabs = solve_delay(MS, sel_str, str(refant))\n",
    "print('K tables:', ktabs)\n",
    "\n",
    "print('Solving bandpass (B) ... combine_fields =', COMBINE_FIELDS)\n",
    "bptabs = solve_bandpass(MS, sel_str, str(refant), ktabs[0], combine_fields=COMBINE_FIELDS)\n",
    "print('BP tables:', bptabs)\n",
    "\n",
    "print('Solving gains (G) ... combine_fields =', COMBINE_FIELDS)\n",
    "gtabs = solve_gains(MS, sel_str, str(refant), ktabs[0], bptabs, combine_fields=COMBINE_FIELDS)\n",
    "print('G tables:', gtabs)\n",
    "\n",
    "tables = ktabs[:1] + bptabs + gtabs\n",
    "print('All tables:')\n",
    "for t in tables:\n",
    "    print(' -', t)\n",
    "tables\n"
   ]
  },
  {
   "cell_type": "markdown",
   "id": "2258a035",
   "metadata": {},
   "source": [
    "### CLI equivalent\n",
    "\n",
    "```bash\n",
    "PYTHONPATH=src:$PYTHONPATH /opt/miniforge/envs/casa6/bin/python -m dsa110_contimg.calibration.cli calibrate \\\n",
    "  --ms /scratch/dsa110-contimg/data-samples/ms/0834_555_transit_reconv3/2025-10-03T15:15:58.ms \\\n",
    "  --auto-fields \\\n",
    "  --cal-catalog /data/dsa110-contimg/data-samples/catalogs/vlacalibrators.txt \\\n",
    "  --cal-search-radius-deg 2.0 \\\n",
    "  --bp-min-pb 0.98 \\\n",
    "  --refant-ranking /tmp/qa-auto/refant_ranking.json \\\n",
    "  --bp-combine-field\n",
    "```"
   ]
  }
 ],
 "metadata": {
  "kernelspec": {
   "display_name": "Python 3",
   "language": "python",
   "name": "python3"
  },
  "language_info": {
   "name": "python",
   "version": "3"
  }
 },
 "nbformat": 4,
 "nbformat_minor": 5
}
