{
 "cells": [
  {
   "cell_type": "markdown",
   "metadata": {},
   "source": [
    "# DSA-110 Bandpass Calibration (Notebook Test)\n",
    "\n",
    "This notebook:\n",
    "- Runs fast QA to recommend a reference antenna.\n",
    "- Auto-selects the bandpass fields using the VLA calibrator catalog (PB-weighted).\n",
    "- Executes K/BA/BP/G solves using CASA6 tasks via the pipeline helpers.\n",
    "\n",
    "Notes:\n",
    "- Run this with a CASA 6 kernel (casatools/casatasks available).\n",
    "- If you don’t have CASA in the kernel, run the QA + selection cells, then run the CLI externally."
   ]
  },
  {
   "cell_type": "code",
   "execution_count": 1,
   "id": "af69524b",
   "metadata": {},
   "outputs": [
    {
     "data": {
      "text/plain": [
       "'/scratch/dsa110-contimg/data-samples/ms/0834_555_transit/2025-10-03T15:15:58.ms'"
      ]
     },
     "execution_count": 1,
     "metadata": {},
     "output_type": "execute_result"
    }
   ],
   "source": [
    "# Setup: add repo src to the path and define inputs\n",
    "import os, sys, json\n",
    "# Be conservative with threading to avoid BLAS/OMP conflicts in CASA\n",
    "os.environ.setdefault('OMP_NUM_THREADS', '1')\n",
    "os.environ.setdefault('OPENBLAS_NUM_THREADS', '1')\n",
    "os.environ.setdefault('MKL_NUM_THREADS', '1')\n",
    "os.environ.setdefault('NUMEXPR_NUM_THREADS', '1')\n",
    "sys.path.insert(0, os.path.abspath('../../src'))  # ensure dsa110_contimg is importable\n",
    "\n",
    "# Measurement Set path (adjust as needed)\n",
    "MS = '/scratch/dsa110-contimg/data-samples/ms/0834_555_transit/2025-10-03T15:15:58.ms'\n",
    "\n",
    "# VLA calibrator catalog\n",
    "CAL_CATALOG = '/data/dsa110-contimg/data-samples/catalogs/vlacalibrators.txt'\n",
    "\n",
    "# Auto-selection configuration\n",
    "BP_WINDOW = 3                 # number of fields around the peak (approx)\n",
    "CAL_SEARCH_RADIUS_DEG = 2.0  # search radius for catalog candidates (deg)\n",
    "\n",
    "# QA output directory\n",
    "QA_DIR = '/tmp/qa-auto'\n",
    "os.makedirs(QA_DIR, exist_ok=True)\n",
    "\n",
    "MS"
   ]
  },
  {
   "cell_type": "code",
   "execution_count": 2,
   "id": "5efbf0f1",
   "metadata": {},
   "outputs": [
    {
     "name": "stdout",
     "output_type": "stream",
     "text": [
      "Successful readonly open of default-locked table /scratch/dsa110-contimg/data-samples/ms/0834_555_transit/2025-10-03T15:15:58.ms: 25 columns, 111744 rows\n",
      "Successful readonly open of default-locked table /scratch/dsa110-contimg/data-samples/ms/0834_555_transit/2025-10-03T15:15:58.ms::DATA_DESCRIPTION: 3 columns, 1 rows\n",
      "Successful readonly open of default-locked table /scratch/dsa110-contimg/data-samples/ms/0834_555_transit/2025-10-03T15:15:58.ms::SPECTRAL_WINDOW: 14 columns, 1 rows\n",
      "Successful readonly open of default-locked table /scratch/dsa110-contimg/data-samples/ms/0834_555_transit/2025-10-03T15:15:58.ms::ANTENNA: 8 columns, 117 rows\n",
      "Successful readonly open of default-locked table /scratch/dsa110-contimg/data-samples/ms/0834_555_transit/2025-10-03T15:15:58.ms::ANTENNA: 8 columns, 117 rows\n",
      "Fast QA artifacts: ['amp_vs_time_fast.png', 'amp_vs_freq_fast.png', 'phase_vs_freq_fast.png', 'uv_plane_fast.png', 'per_antenna_metrics_fast.png', 'phase_sigma_sorted_fast.png', 'coherence_vs_flagged_fast.png', 'per_antenna_phase_polar_fast.png', 'phase_heatmap_fast.png', 'refant_ranking.json', 'refant_ranking.csv']\n",
      "Recommended refant: 67\n"
     ]
    },
    {
     "data": {
      "text/plain": [
       "67"
      ]
     },
     "execution_count": 2,
     "metadata": {},
     "output_type": "execute_result"
    }
   ],
   "source": [
    "# 1) Run fast QA to rank reference antennas\n",
    "from dsa110_contimg.qa.fast_plots import run_fast_plots\n",
    "\n",
    "artifacts = run_fast_plots(MS, output_dir=QA_DIR)\n",
    "print('Fast QA artifacts:', artifacts)\n",
    "\n",
    "rec_path = os.path.join(QA_DIR, 'refant_ranking.json')\n",
    "with open(rec_path, 'r', encoding='utf-8') as f:\n",
    "    ranking = json.load(f)\n",
    "refant = ranking.get('recommended', {}).get('antenna_id')\n",
    "print('Recommended refant:', refant)\n",
    "assert refant is not None, 'No recommended reference antenna found'\n",
    "refant"
   ]
  },
  {
   "cell_type": "code",
   "execution_count": 3,
   "id": "afdd710f",
   "metadata": {},
   "outputs": [
    {
     "name": "stdout",
     "output_type": "stream",
     "text": [
      "Successful readonly open of default-locked table /scratch/dsa110-contimg/data-samples/ms/0834_555_transit/2025-10-03T15:15:58.ms::FIELD: 9 columns, 24 rows\n",
      "Calibrator: 0824+558 (RA 126.1968 deg, Dec 55.8785 deg, flux 1.200 Jy)\n",
      "Selected fields: 22~23 indices: [22, 23]\n"
     ]
    },
    {
     "name": "stderr",
     "output_type": "stream",
     "text": [
      "/tmp/ipykernel_3612793/1060446652.py:22: UserWarning: FigureCanvasAgg is non-interactive, and thus cannot be shown\n",
      "  plt.show()\n"
     ]
    },
    {
     "data": {
      "text/plain": [
       "'22~23'"
      ]
     },
     "execution_count": 3,
     "metadata": {},
     "output_type": "execute_result"
    }
   ],
   "source": [
    "# 2) Auto-select bandpass fields from the VLA calibrator catalog\n",
    "from dsa110_contimg.calibration.selection import select_bandpass_from_catalog\n",
    "\n",
    "sel_str, indices, wflux, calinfo = select_bandpass_from_catalog(\n",
    "    MS, CAL_CATALOG, search_radius_deg=CAL_SEARCH_RADIUS_DEG, window=BP_WINDOW\n",
    ")\n",
    "name, ra_deg, dec_deg, flux_jy = calinfo\n",
    "print(f'Calibrator: {name} (RA {ra_deg:.4f} deg, Dec {dec_deg:.4f} deg, flux {flux_jy:.3f} Jy)')\n",
    "print('Selected fields:', sel_str, 'indices:', indices)\n",
    "\n",
    "# Optional: quick plot of PB-weighted flux per field\n",
    "import numpy as np\n",
    "import matplotlib.pyplot as plt\n",
    "plt.figure(figsize=(8,3))\n",
    "plt.plot(np.arange(len(wflux)), wflux, '-o', ms=3)\n",
    "plt.axvspan(indices[0]-0.5, indices[-1]+0.5, color='orange', alpha=0.2, label='selected')\n",
    "plt.xlabel('Field index')\n",
    "plt.ylabel('PB-weighted flux (Jy)')\n",
    "plt.title('Bandpass field auto-selection')\n",
    "plt.legend()\n",
    "plt.tight_layout()\n",
    "plt.show()\n",
    "\n",
    "sel_str"
   ]
  },
  {
   "cell_type": "code",
   "execution_count": 4,
   "id": "9ecb549a",
   "metadata": {},
   "outputs": [
    {
     "ename": "",
     "evalue": "",
     "output_type": "error",
     "traceback": [
      "\u001b[1;31mThe Kernel crashed while executing code in the current cell or a previous cell. \n",
      "\u001b[1;31mPlease review the code in the cell(s) to identify a possible cause of the failure. \n",
      "\u001b[1;31mClick <a href='https://aka.ms/vscodeJupyterKernelCrash'>here</a> for more info. \n",
      "\u001b[1;31mView Jupyter <a href='command:jupyter.viewOutput'>log</a> for further details."
     ]
    }
   ],
   "source": [
    "# 3) Run K/BA/BP/G solves using CASA (requires casatools/casatasks)\n",
    "from importlib.util import find_spec\n",
    "\n",
    "if find_spec('casatasks') is None or find_spec('casatools') is None:\n",
    "    raise RuntimeError('CASA not available in this kernel. Switch to a CASA 6 kernel.')\n",
    "\n",
    "from dsa110_contimg.calibration.cli import run_calibrator\n",
    "\n",
    "print(f'Running calibration...')\n",
    "print(' MS:', MS)\n",
    "print(' Fields:', sel_str)\n",
    "print(' Refant:', refant)\n",
    "# The calibrate helper patches FIELD::NUM_POLY if needed and skips flagging (do_flagging=False)\n",
    "tables = run_calibrator(MS, sel_str, str(refant), do_flagging=False)\n",
    "print('Calibration tables produced:')\n",
    "for t in tables:\n",
    "    print(' -', t)\n",
    "tables"
   ]
  },
  {
   "cell_type": "code",
   "execution_count": null,
   "id": "80f2bd3f",
   "metadata": {},
   "outputs": [],
   "source": []
  }
 ],
 "metadata": {
  "kernelspec": {
   "display_name": "casa6",
   "language": "python",
   "name": "python3"
  },
  "language_info": {
   "codemirror_mode": {
    "name": "ipython",
    "version": 3
   },
   "file_extension": ".py",
   "mimetype": "text/x-python",
   "name": "python",
   "nbconvert_exporter": "python",
   "pygments_lexer": "ipython3",
   "version": "3.11.13"
  }
 },
 "nbformat": 4,
 "nbformat_minor": 5
}
