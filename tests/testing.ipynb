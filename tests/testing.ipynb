{
 "cells": [
  {
   "cell_type": "code",
   "execution_count": null,
   "id": "b00b605d",
   "metadata": {},
   "outputs": [
    {
     "name": "stderr",
     "output_type": "stream",
     "text": [
      "2025-10-07 17:49:03 [INFO] Setting DSA-110 antenna positions\n",
      "2025-10-07 17:49:04 [INFO] Loaded dynamic antenna positions for 117 antennas\n"
     ]
    },
    {
     "name": "stdout",
     "output_type": "stream",
     "text": [
      "Ntimes=2, Nbls=4656, Nblts=9312\n",
      "UVW finite fraction: 1.0\n",
      "Wrote MS: /tmp/quick_small.ms in 12.9s\n"
     ]
    }
   ],
   "source": [
    "# Fast small-MS write (metadata-only projection; no DATA rotation)\n",
    "# - Keeps only the first N_TIMES_TO_KEEP timestamps to speed up IO\n",
    "# - Recomputes UVW for a single ICRS/J2000 phase center\n",
    "# - Writes to /tmp; change DEST_MS if you prefer a different location\n",
    "\n",
    "import os\n",
    "import sys\n",
    "import time\n",
    "import shutil\n",
    "import numpy as np\n",
    "import astropy.units as u\n",
    "from astropy.time import Time\n",
    "from pyuvdata import UVData\n",
    "\n",
    "# ----- Config -----\n",
    "SRC_ROOT = \"/data/dsa110-contimg/src\"\n",
    "IN_DIR = \"/data/incoming_test/2025-09-05T03-12-56_HDF5\"\n",
    "IN_FILE = os.path.join(IN_DIR, \"2025-09-05T03:12:56_sb00.hdf5\")  # single subband for speed\n",
    "DEST_MS = \"/tmp/quick_small.ms\"  # change to your preferred path\n",
    "N_TIMES_TO_KEEP = 2              # keep first 2 times for a quick run\n",
    "WRITE_MODEL = False              # set True to write MODEL_DATA with a point source\n",
    "\n",
    "# ----- Path bootstrap for imports in notebook -----\n",
    "if SRC_ROOT not in sys.path:\n",
    "    sys.path.insert(0, SRC_ROOT)\n",
    "\n",
    "from dsa110_contimg.conversion.helpers import (\n",
    "    set_model_column,\n",
    "    phase_to_meridian,\n",
    ")\n",
    "\n",
    "# ----- Load UVH5 (single subband for speed) -----\n",
    "t0 = time.time()\n",
    "uv = UVData()\n",
    "uv.read(\n",
    "    IN_FILE,\n",
    "    file_type=\"uvh5\",\n",
    "    run_check=False,\n",
    "    run_check_acceptability=False,\n",
    "    strict_uvw_antpos_check=False,\n",
    "    check_extra=False,\n",
    ")\n",
    "uv.uvw_array = uv.uvw_array.astype(np.float64)\n",
    "\n",
    "# ----- Optional: select first N_TIMES_TO_KEEP times to minimize size -----\n",
    "unique_times = np.unique(uv.time_array)\n",
    "if unique_times.size > N_TIMES_TO_KEEP:\n",
    "    uv.select(times=unique_times[:N_TIMES_TO_KEEP], run_check=False)\n",
    "\n",
    "# ----- Phasing -----\n",
    "phase_to_meridian(uv)\n",
    "\n",
    "print(f\"Ntimes={uv.Ntimes}, Nbls={uv.Nbls}, Nblts={uv.Nblts}\")\n",
    "print(\"UVW finite fraction:\", np.isfinite(uv.uvw_array).mean())\n",
    "\n",
    "# ----- Write MS (fast path) -----\n",
    "if os.path.exists(DEST_MS):\n",
    "    shutil.rmtree(DEST_MS)\n",
    "\n",
    "uv.write_ms(\n",
    "    DEST_MS,\n",
    "    clobber=True,\n",
    "    run_check=False,\n",
    "    check_extra=False,\n",
    "    run_check_acceptability=False,\n",
    "    strict_uvw_antpos_check=False,\n",
    "    check_autos=False,\n",
    "    fix_autos=False,\n",
    ")\n",
    "print(f\"Wrote MS: {DEST_MS} in {time.time() - t0:.1f}s\")\n",
    "\n",
    "# ----- Optional: write MODEL_DATA for a point source at phase center -----\n",
    "if WRITE_MODEL:\n",
    "    pt_dec = uv.extra_keywords.get(\"phase_center_dec\", 0.0) * u.rad\n",
    "    ra_icrs = uv.phase_center_ra * u.rad\n",
    "    dec_icrs = uv.phase_center_dec * u.rad\n",
    "    set_model_column(DEST_MS[:-3], uv, pt_dec, ra_icrs, dec_icrs, flux_Jy=10.0)\n",
    "    print(\"MODEL_DATA written.\")\n"
   ]
  },
  {
   "cell_type": "code",
   "execution_count": null,
   "id": "b3e6c1f3",
   "metadata": {},
   "outputs": [
    {
     "name": "stdout",
     "output_type": "stream",
     "text": [
      "listobs written to: /tmp/quick_small.listobs\n",
      "Successful readonly open of default-locked table /tmp/quick_small.ms::FIELD: 9 columns, 1 rows\n",
      "FIELDS: ['FIELD_CENTER'] (total: 1 )\n",
      "PHASE_DIR shape: (1, 1, 2)\n",
      "Successful readonly open of default-locked table /tmp/quick_small.ms::SPECTRAL_WINDOW: 16 columns, 1 rows\n",
      "SPW: nchan = 48 freq ascending: True\n",
      "SPW: channel_width positive: True\n",
      "Successful readonly open of default-locked table /tmp/quick_small.ms: 23 columns, 9312 rows\n",
      "UVW rows: 9312 min(m): -1836.1816634101265 max(m): 1695.5881506802814\n",
      "DATA sample shape (npol, nchan, nrow=1): (1, 48, 2)\n",
      "Successful readonly open of default-locked table /tmp/quick_small.ms: 23 columns, 9312 rows\n",
      "Has MODEL_DATA: False Has CORRECTED_DATA: False\n"
     ]
    }
   ],
   "source": [
    "\n"
   ]
  },
  {
   "cell_type": "code",
   "execution_count": null,
   "id": "568b3d12",
   "metadata": {},
   "outputs": [
    {
     "name": "stderr",
     "output_type": "stream",
     "text": [
      "2025-10-07 17:28:52 [INFO] Setting DSA-110 antenna positions\n",
      "2025-10-07 17:28:53 [INFO] Loaded dynamic antenna positions for 117 antennas\n"
     ]
    },
    {
     "name": "stdout",
     "output_type": "stream",
     "text": [
      "Nblts, Ntimes, Nbls: 111744 24 4656\n",
      "UVW finite fraction: 1.0\n",
      "Unique frames in catalog: {'icrs'}\n"
     ]
    }
   ],
   "source": [
    "\n"
   ]
  },
  {
   "cell_type": "code",
   "execution_count": null,
   "id": "9bee1557",
   "metadata": {},
   "outputs": [
    {
     "ename": "KeyboardInterrupt",
     "evalue": "",
     "output_type": "error",
     "traceback": [
      "\u001b[31m---------------------------------------------------------------------------\u001b[39m",
      "\u001b[31mKeyboardInterrupt\u001b[39m                         Traceback (most recent call last)",
      "\u001b[36mCell\u001b[39m\u001b[36m \u001b[39m\u001b[32mIn[3]\u001b[39m\u001b[32m, line 129\u001b[39m\n\u001b[32m    125\u001b[39m     dt = time.time() - t0\n\u001b[32m    127\u001b[39m     \u001b[38;5;28;01mreturn\u001b[39;00m ms_path, uv, dt\n\u001b[32m--> \u001b[39m\u001b[32m129\u001b[39m ms_path, uv_tiny, write_secs = \u001b[43mwrite_tiny_ms_to_ram\u001b[49m\u001b[43m(\u001b[49m\n\u001b[32m    130\u001b[39m \u001b[43m    \u001b[49m\u001b[43mIN_DIR\u001b[49m\u001b[43m,\u001b[49m\u001b[43m \u001b[49m\u001b[43mOUT_DIR\u001b[49m\u001b[43m,\u001b[49m\u001b[43m \u001b[49m\u001b[43mSTART\u001b[49m\u001b[43m,\u001b[49m\u001b[43m \u001b[49m\u001b[43mEND\u001b[49m\u001b[43m,\u001b[49m\n\u001b[32m    131\u001b[39m \u001b[43m    \u001b[49m\u001b[43mn_times_keep\u001b[49m\u001b[43m=\u001b[49m\u001b[43mN_TIMES_TO_KEEP\u001b[49m\u001b[43m,\u001b[49m\n\u001b[32m    132\u001b[39m \u001b[43m    \u001b[49m\u001b[43mn_chan_keep\u001b[49m\u001b[43m=\u001b[49m\u001b[43mN_CH_KEEP\u001b[49m\u001b[43m,\u001b[49m\n\u001b[32m    133\u001b[39m \u001b[43m    \u001b[49m\u001b[43mn_ants_keep\u001b[49m\u001b[43m=\u001b[49m\u001b[43mN_ANTS_KEEP\u001b[49m\u001b[43m,\u001b[49m\n\u001b[32m    134\u001b[39m \u001b[43m)\u001b[49m\n\u001b[32m    136\u001b[39m \u001b[38;5;28mprint\u001b[39m(\u001b[33mf\u001b[39m\u001b[33m\"\u001b[39m\u001b[33mWrote tiny MS: \u001b[39m\u001b[38;5;132;01m{\u001b[39;00mms_path\u001b[38;5;132;01m}\u001b[39;00m\u001b[33m in \u001b[39m\u001b[38;5;132;01m{\u001b[39;00mwrite_secs\u001b[38;5;132;01m:\u001b[39;00m\u001b[33m.1f\u001b[39m\u001b[38;5;132;01m}\u001b[39;00m\u001b[33ms\u001b[39m\u001b[33m\"\u001b[39m)\n\u001b[32m    137\u001b[39m \u001b[38;5;28mprint\u001b[39m(\u001b[33m\"\u001b[39m\u001b[33mNtimes =\u001b[39m\u001b[33m\"\u001b[39m, uv_tiny.Ntimes, \u001b[33m\"\u001b[39m\u001b[33mNbls =\u001b[39m\u001b[33m\"\u001b[39m, uv_tiny.Nbls, \u001b[33m\"\u001b[39m\u001b[33mNblts =\u001b[39m\u001b[33m\"\u001b[39m, uv_tiny.Nblts)\n",
      "\u001b[36mCell\u001b[39m\u001b[36m \u001b[39m\u001b[32mIn[3]\u001b[39m\u001b[32m, line 57\u001b[39m, in \u001b[36mwrite_tiny_ms_to_ram\u001b[39m\u001b[34m(in_dir, out_dir, start, end, n_times_keep, n_chan_keep, n_ants_keep)\u001b[39m\n\u001b[32m     54\u001b[39m ms_path = os.path.join(out_dir, \u001b[33mf\u001b[39m\u001b[33m\"\u001b[39m\u001b[38;5;132;01m{\u001b[39;00mbase\u001b[38;5;132;01m}\u001b[39;00m\u001b[33m_tiny.ms\u001b[39m\u001b[33m\"\u001b[39m)\n\u001b[32m     56\u001b[39m \u001b[38;5;66;03m# Load & merge all 16 subbands\u001b[39;00m\n\u001b[32m---> \u001b[39m\u001b[32m57\u001b[39m uv = \u001b[43mv2\u001b[49m\u001b[43m.\u001b[49m\u001b[43m_load_and_merge_subbands\u001b[49m\u001b[43m(\u001b[49m\u001b[43mfiles\u001b[49m\u001b[43m)\u001b[49m\n\u001b[32m     59\u001b[39m \u001b[38;5;66;03m# 1) Keep first N times\u001b[39;00m\n\u001b[32m     60\u001b[39m uniq_t = np.unique(uv.time_array)\n",
      "\u001b[36mFile \u001b[39m\u001b[32m/data/dsa110-contimg/src/dsa110_contimg/core/conversion/uvh5_to_ms_converter_v2.py:153\u001b[39m, in \u001b[36m_load_and_merge_subbands\u001b[39m\u001b[34m(file_list)\u001b[39m\n\u001b[32m    151\u001b[39m \u001b[38;5;28;01mfor\u001b[39;00m i, path \u001b[38;5;129;01min\u001b[39;00m \u001b[38;5;28menumerate\u001b[39m(file_list):\n\u001b[32m    152\u001b[39m     tmp = UVData()\n\u001b[32m--> \u001b[39m\u001b[32m153\u001b[39m     \u001b[43mtmp\u001b[49m\u001b[43m.\u001b[49m\u001b[43mread\u001b[49m\u001b[43m(\u001b[49m\n\u001b[32m    154\u001b[39m \u001b[43m        \u001b[49m\u001b[43mpath\u001b[49m\u001b[43m,\u001b[49m\n\u001b[32m    155\u001b[39m \u001b[43m        \u001b[49m\u001b[43mfile_type\u001b[49m\u001b[43m=\u001b[49m\u001b[33;43m\"\u001b[39;49m\u001b[33;43muvh5\u001b[39;49m\u001b[33;43m\"\u001b[39;49m\u001b[43m,\u001b[49m\n\u001b[32m    156\u001b[39m \u001b[43m        \u001b[49m\u001b[43mrun_check\u001b[49m\u001b[43m=\u001b[49m\u001b[38;5;28;43;01mFalse\u001b[39;49;00m\u001b[43m,\u001b[49m\n\u001b[32m    157\u001b[39m \u001b[43m        \u001b[49m\u001b[43mrun_check_acceptability\u001b[49m\u001b[43m=\u001b[49m\u001b[38;5;28;43;01mFalse\u001b[39;49;00m\u001b[43m,\u001b[49m\n\u001b[32m    158\u001b[39m \u001b[43m        \u001b[49m\u001b[43mstrict_uvw_antpos_check\u001b[49m\u001b[43m=\u001b[49m\u001b[38;5;28;43;01mFalse\u001b[39;49;00m\u001b[43m,\u001b[49m\n\u001b[32m    159\u001b[39m \u001b[43m        \u001b[49m\u001b[43mcheck_extra\u001b[49m\u001b[43m=\u001b[49m\u001b[38;5;28;43;01mFalse\u001b[39;49;00m\u001b[43m,\u001b[49m\n\u001b[32m    160\u001b[39m \u001b[43m    \u001b[49m\u001b[43m)\u001b[49m\n\u001b[32m    161\u001b[39m     tmp.uvw_array = tmp.uvw_array.astype(np.float64)\n\u001b[32m    162\u001b[39m     \u001b[38;5;28;01mif\u001b[39;00m first:\n",
      "\u001b[36mFile \u001b[39m\u001b[32m/opt/miniforge/envs/casa6/lib/python3.11/site-packages/pyuvdata/uvdata/uvdata.py:11147\u001b[39m, in \u001b[36mUVData.read\u001b[39m\u001b[34m(self, filename, axis, file_type, read_data, skip_bad_files, background_lsts, astrometry_library, ignore_name, antenna_nums, antenna_names, ant_str, bls, catalog_names, frequencies, freq_chans, spws, times, time_range, lsts, lst_range, polarizations, blt_inds, phase_center_ids, keep_all_metadata, run_check, check_extra, run_check_acceptability, strict_uvw_antpos_check, check_autos, fix_autos, default_mount_type, projected, correct_lat_lon, calc_lst, fix_old_proj, fix_use_ant_pos, params_file, obs_file, flags_file, layout_file, settings_file, data_column, pol_order, ignore_single_chan, raise_error, read_weights, allow_flex_pol, multidim_index, remove_flex_pol, blt_order, blts_are_rectangular, time_axis_faster_than_bls, data_array_dtype, use_aoflagger_flags, remove_dig_gains, remove_coarse_band, correct_cable_len, correct_van_vleck, cheby_approx, flag_small_auto_ants, propagate_coarse_flags, flag_init, edge_width, start_flag, end_flag, flag_dc_offset, remove_flagged_ants, phase_to_pointing_center, nsample_array_dtype, corrchunk, receivers, sidebands, mir_select_where, apply_tsys, apply_flags, apply_dedoppler, pseudo_cont, rechunk, compass_soln, swarm_only, codes_check, recompute_nbls)\u001b[39m\n\u001b[32m  11127\u001b[39m     \u001b[38;5;28mself\u001b[39m.read_ms(\n\u001b[32m  11128\u001b[39m         filename,\n\u001b[32m  11129\u001b[39m         data_column=data_column,\n\u001b[32m   (...)\u001b[39m\u001b[32m  11143\u001b[39m         astrometry_library=astrometry_library,\n\u001b[32m  11144\u001b[39m     )\n\u001b[32m  11146\u001b[39m \u001b[38;5;28;01melif\u001b[39;00m file_type == \u001b[33m\"\u001b[39m\u001b[33muvh5\u001b[39m\u001b[33m\"\u001b[39m:\n\u001b[32m> \u001b[39m\u001b[32m11147\u001b[39m     \u001b[38;5;28;43mself\u001b[39;49m\u001b[43m.\u001b[49m\u001b[43mread_uvh5\u001b[49m\u001b[43m(\u001b[49m\n\u001b[32m  11148\u001b[39m \u001b[43m        \u001b[49m\u001b[43mfilename\u001b[49m\u001b[43m,\u001b[49m\n\u001b[32m  11149\u001b[39m \u001b[43m        \u001b[49m\u001b[43mantenna_nums\u001b[49m\u001b[43m=\u001b[49m\u001b[43mantenna_nums\u001b[49m\u001b[43m,\u001b[49m\n\u001b[32m  11150\u001b[39m \u001b[43m        \u001b[49m\u001b[43mantenna_names\u001b[49m\u001b[43m=\u001b[49m\u001b[43mantenna_names\u001b[49m\u001b[43m,\u001b[49m\n\u001b[32m  11151\u001b[39m \u001b[43m        \u001b[49m\u001b[43mant_str\u001b[49m\u001b[43m=\u001b[49m\u001b[43mant_str\u001b[49m\u001b[43m,\u001b[49m\n\u001b[32m  11152\u001b[39m \u001b[43m        \u001b[49m\u001b[43mbls\u001b[49m\u001b[43m=\u001b[49m\u001b[43mbls\u001b[49m\u001b[43m,\u001b[49m\n\u001b[32m  11153\u001b[39m \u001b[43m        \u001b[49m\u001b[43mfrequencies\u001b[49m\u001b[43m=\u001b[49m\u001b[43mfrequencies\u001b[49m\u001b[43m,\u001b[49m\n\u001b[32m  11154\u001b[39m \u001b[43m        \u001b[49m\u001b[43mfreq_chans\u001b[49m\u001b[43m=\u001b[49m\u001b[43mfreq_chans\u001b[49m\u001b[43m,\u001b[49m\n\u001b[32m  11155\u001b[39m \u001b[43m        \u001b[49m\u001b[43mspws\u001b[49m\u001b[43m=\u001b[49m\u001b[43mspws\u001b[49m\u001b[43m,\u001b[49m\n\u001b[32m  11156\u001b[39m \u001b[43m        \u001b[49m\u001b[43mtimes\u001b[49m\u001b[43m=\u001b[49m\u001b[43mtimes\u001b[49m\u001b[43m,\u001b[49m\n\u001b[32m  11157\u001b[39m \u001b[43m        \u001b[49m\u001b[43mtime_range\u001b[49m\u001b[43m=\u001b[49m\u001b[43mtime_range\u001b[49m\u001b[43m,\u001b[49m\n\u001b[32m  11158\u001b[39m \u001b[43m        \u001b[49m\u001b[43mlsts\u001b[49m\u001b[43m=\u001b[49m\u001b[43mlsts\u001b[49m\u001b[43m,\u001b[49m\n\u001b[32m  11159\u001b[39m \u001b[43m        \u001b[49m\u001b[43mlst_range\u001b[49m\u001b[43m=\u001b[49m\u001b[43mlst_range\u001b[49m\u001b[43m,\u001b[49m\n\u001b[32m  11160\u001b[39m \u001b[43m        \u001b[49m\u001b[43mpolarizations\u001b[49m\u001b[43m=\u001b[49m\u001b[43mpolarizations\u001b[49m\u001b[43m,\u001b[49m\n\u001b[32m  11161\u001b[39m \u001b[43m        \u001b[49m\u001b[43mblt_inds\u001b[49m\u001b[43m=\u001b[49m\u001b[43mblt_inds\u001b[49m\u001b[43m,\u001b[49m\n\u001b[32m  11162\u001b[39m \u001b[43m        \u001b[49m\u001b[43mphase_center_ids\u001b[49m\u001b[43m=\u001b[49m\u001b[43mphase_center_ids\u001b[49m\u001b[43m,\u001b[49m\n\u001b[32m  11163\u001b[39m \u001b[43m        \u001b[49m\u001b[43mcatalog_names\u001b[49m\u001b[43m=\u001b[49m\u001b[43mcatalog_names\u001b[49m\u001b[43m,\u001b[49m\n\u001b[32m  11164\u001b[39m \u001b[43m        \u001b[49m\u001b[43mread_data\u001b[49m\u001b[43m=\u001b[49m\u001b[43mread_data\u001b[49m\u001b[43m,\u001b[49m\n\u001b[32m  11165\u001b[39m \u001b[43m        \u001b[49m\u001b[43mdata_array_dtype\u001b[49m\u001b[43m=\u001b[49m\u001b[43mdata_array_dtype\u001b[49m\u001b[43m,\u001b[49m\n\u001b[32m  11166\u001b[39m \u001b[43m        \u001b[49m\u001b[43mkeep_all_metadata\u001b[49m\u001b[43m=\u001b[49m\u001b[43mkeep_all_metadata\u001b[49m\u001b[43m,\u001b[49m\n\u001b[32m  11167\u001b[39m \u001b[43m        \u001b[49m\u001b[43mmultidim_index\u001b[49m\u001b[43m=\u001b[49m\u001b[43mmultidim_index\u001b[49m\u001b[43m,\u001b[49m\n\u001b[32m  11168\u001b[39m \u001b[43m        \u001b[49m\u001b[43mremove_flex_pol\u001b[49m\u001b[43m=\u001b[49m\u001b[43mremove_flex_pol\u001b[49m\u001b[43m,\u001b[49m\n\u001b[32m  11169\u001b[39m \u001b[43m        \u001b[49m\u001b[43mbackground_lsts\u001b[49m\u001b[43m=\u001b[49m\u001b[43mbackground_lsts\u001b[49m\u001b[43m,\u001b[49m\n\u001b[32m  11170\u001b[39m \u001b[43m        \u001b[49m\u001b[43mdefault_mount_type\u001b[49m\u001b[43m=\u001b[49m\u001b[43mdefault_mount_type\u001b[49m\u001b[43m,\u001b[49m\n\u001b[32m  11171\u001b[39m \u001b[43m        \u001b[49m\u001b[43mrun_check\u001b[49m\u001b[43m=\u001b[49m\u001b[43mrun_check\u001b[49m\u001b[43m,\u001b[49m\n\u001b[32m  11172\u001b[39m \u001b[43m        \u001b[49m\u001b[43mcheck_extra\u001b[49m\u001b[43m=\u001b[49m\u001b[43mcheck_extra\u001b[49m\u001b[43m,\u001b[49m\n\u001b[32m  11173\u001b[39m \u001b[43m        \u001b[49m\u001b[43mrun_check_acceptability\u001b[49m\u001b[43m=\u001b[49m\u001b[43mrun_check_acceptability\u001b[49m\u001b[43m,\u001b[49m\n\u001b[32m  11174\u001b[39m \u001b[43m        \u001b[49m\u001b[43mstrict_uvw_antpos_check\u001b[49m\u001b[43m=\u001b[49m\u001b[43mstrict_uvw_antpos_check\u001b[49m\u001b[43m,\u001b[49m\n\u001b[32m  11175\u001b[39m \u001b[43m        \u001b[49m\u001b[43mfix_old_proj\u001b[49m\u001b[43m=\u001b[49m\u001b[43mfix_old_proj\u001b[49m\u001b[43m,\u001b[49m\n\u001b[32m  11176\u001b[39m \u001b[43m        \u001b[49m\u001b[43mfix_use_ant_pos\u001b[49m\u001b[43m=\u001b[49m\u001b[43mfix_use_ant_pos\u001b[49m\u001b[43m,\u001b[49m\n\u001b[32m  11177\u001b[39m \u001b[43m        \u001b[49m\u001b[43mcheck_autos\u001b[49m\u001b[43m=\u001b[49m\u001b[43mcheck_autos\u001b[49m\u001b[43m,\u001b[49m\n\u001b[32m  11178\u001b[39m \u001b[43m        \u001b[49m\u001b[43mfix_autos\u001b[49m\u001b[43m=\u001b[49m\u001b[43mfix_autos\u001b[49m\u001b[43m,\u001b[49m\n\u001b[32m  11179\u001b[39m \u001b[43m        \u001b[49m\u001b[43mtime_axis_faster_than_bls\u001b[49m\u001b[43m=\u001b[49m\u001b[43mtime_axis_faster_than_bls\u001b[49m\u001b[43m,\u001b[49m\n\u001b[32m  11180\u001b[39m \u001b[43m        \u001b[49m\u001b[43mblts_are_rectangular\u001b[49m\u001b[43m=\u001b[49m\u001b[43mblts_are_rectangular\u001b[49m\u001b[43m,\u001b[49m\n\u001b[32m  11181\u001b[39m \u001b[43m        \u001b[49m\u001b[43mrecompute_nbls\u001b[49m\u001b[43m=\u001b[49m\u001b[43mrecompute_nbls\u001b[49m\u001b[43m,\u001b[49m\n\u001b[32m  11182\u001b[39m \u001b[43m        \u001b[49m\u001b[43mastrometry_library\u001b[49m\u001b[43m=\u001b[49m\u001b[43mastrometry_library\u001b[49m\u001b[43m,\u001b[49m\n\u001b[32m  11183\u001b[39m \u001b[43m    \u001b[49m\u001b[43m)\u001b[49m\n\u001b[32m  11184\u001b[39m     select = \u001b[38;5;28;01mFalse\u001b[39;00m\n\u001b[32m  11186\u001b[39m \u001b[38;5;28;01mif\u001b[39;00m select:\n",
      "\u001b[36mFile \u001b[39m\u001b[32m/opt/miniforge/envs/casa6/lib/python3.11/site-packages/pyuvdata/uvdata/uvdata.py:9804\u001b[39m, in \u001b[36mUVData.read_uvh5\u001b[39m\u001b[34m(self, filename, **kwargs)\u001b[39m\n\u001b[32m   9797\u001b[39m     \u001b[38;5;28;01mraise\u001b[39;00m \u001b[38;5;167;01mValueError\u001b[39;00m(\n\u001b[32m   9798\u001b[39m         \u001b[33m\"\u001b[39m\u001b[33mReading multiple files from class specific \u001b[39m\u001b[33m\"\u001b[39m\n\u001b[32m   9799\u001b[39m         \u001b[33m\"\u001b[39m\u001b[33mread functions is no longer supported. \u001b[39m\u001b[33m\"\u001b[39m\n\u001b[32m   9800\u001b[39m         \u001b[33m\"\u001b[39m\u001b[33mUse the generic `uvdata.read` function instead.\u001b[39m\u001b[33m\"\u001b[39m\n\u001b[32m   9801\u001b[39m     )\n\u001b[32m   9803\u001b[39m uvh5_obj = uvh5.UVH5()\n\u001b[32m-> \u001b[39m\u001b[32m9804\u001b[39m \u001b[43muvh5_obj\u001b[49m\u001b[43m.\u001b[49m\u001b[43mread_uvh5\u001b[49m\u001b[43m(\u001b[49m\u001b[43mfilename\u001b[49m\u001b[43m,\u001b[49m\u001b[43m \u001b[49m\u001b[43m*\u001b[49m\u001b[43m*\u001b[49m\u001b[43mkwargs\u001b[49m\u001b[43m)\u001b[49m\n\u001b[32m   9805\u001b[39m \u001b[38;5;28mself\u001b[39m._convert_from_filetype(uvh5_obj)\n\u001b[32m   9806\u001b[39m \u001b[38;5;28;01mdel\u001b[39;00m uvh5_obj\n",
      "\u001b[36mFile \u001b[39m\u001b[32m/opt/miniforge/envs/casa6/lib/python3.11/site-packages/pyuvdata/uvdata/uvh5.py:1075\u001b[39m, in \u001b[36mUVH5.read_uvh5\u001b[39m\u001b[34m(self, filename, antenna_nums, antenna_names, ant_str, bls, frequencies, freq_chans, spws, times, time_range, lsts, lst_range, polarizations, blt_inds, phase_center_ids, catalog_names, keep_all_metadata, read_data, data_array_dtype, multidim_index, remove_flex_pol, background_lsts, default_mount_type, run_check, check_extra, run_check_acceptability, strict_uvw_antpos_check, fix_old_proj, fix_use_ant_pos, check_autos, fix_autos, blt_order, blts_are_rectangular, time_axis_faster_than_bls, recompute_nbls, astrometry_library)\u001b[39m\n\u001b[32m   1063\u001b[39m \u001b[38;5;28mself\u001b[39m._read_header(\n\u001b[32m   1064\u001b[39m     meta,\n\u001b[32m   1065\u001b[39m     default_mount_type=default_mount_type,\n\u001b[32m   (...)\u001b[39m\u001b[32m   1070\u001b[39m     astrometry_library=astrometry_library,\n\u001b[32m   1071\u001b[39m )\n\u001b[32m   1073\u001b[39m \u001b[38;5;28;01mif\u001b[39;00m read_data:\n\u001b[32m   1074\u001b[39m     \u001b[38;5;66;03m# Now read in the data\u001b[39;00m\n\u001b[32m-> \u001b[39m\u001b[32m1075\u001b[39m     \u001b[38;5;28;43mself\u001b[39;49m\u001b[43m.\u001b[49m\u001b[43m_get_data\u001b[49m\u001b[43m(\u001b[49m\n\u001b[32m   1076\u001b[39m \u001b[43m        \u001b[49m\u001b[43mmeta\u001b[49m\u001b[43m.\u001b[49m\u001b[43mdatagrp\u001b[49m\u001b[43m,\u001b[49m\n\u001b[32m   1077\u001b[39m \u001b[43m        \u001b[49m\u001b[43mantenna_nums\u001b[49m\u001b[43m=\u001b[49m\u001b[43mantenna_nums\u001b[49m\u001b[43m,\u001b[49m\n\u001b[32m   1078\u001b[39m \u001b[43m        \u001b[49m\u001b[43mantenna_names\u001b[49m\u001b[43m=\u001b[49m\u001b[43mantenna_names\u001b[49m\u001b[43m,\u001b[49m\n\u001b[32m   1079\u001b[39m \u001b[43m        \u001b[49m\u001b[43mant_str\u001b[49m\u001b[43m=\u001b[49m\u001b[43mant_str\u001b[49m\u001b[43m,\u001b[49m\n\u001b[32m   1080\u001b[39m \u001b[43m        \u001b[49m\u001b[43mbls\u001b[49m\u001b[43m=\u001b[49m\u001b[43mbls\u001b[49m\u001b[43m,\u001b[49m\n\u001b[32m   1081\u001b[39m \u001b[43m        \u001b[49m\u001b[43mfrequencies\u001b[49m\u001b[43m=\u001b[49m\u001b[43mfrequencies\u001b[49m\u001b[43m,\u001b[49m\n\u001b[32m   1082\u001b[39m \u001b[43m        \u001b[49m\u001b[43mfreq_chans\u001b[49m\u001b[43m=\u001b[49m\u001b[43mfreq_chans\u001b[49m\u001b[43m,\u001b[49m\n\u001b[32m   1083\u001b[39m \u001b[43m        \u001b[49m\u001b[43mspws\u001b[49m\u001b[43m=\u001b[49m\u001b[43mspws\u001b[49m\u001b[43m,\u001b[49m\n\u001b[32m   1084\u001b[39m \u001b[43m        \u001b[49m\u001b[43mtimes\u001b[49m\u001b[43m=\u001b[49m\u001b[43mtimes\u001b[49m\u001b[43m,\u001b[49m\n\u001b[32m   1085\u001b[39m \u001b[43m        \u001b[49m\u001b[43mtime_range\u001b[49m\u001b[43m=\u001b[49m\u001b[43mtime_range\u001b[49m\u001b[43m,\u001b[49m\n\u001b[32m   1086\u001b[39m \u001b[43m        \u001b[49m\u001b[43mlsts\u001b[49m\u001b[43m=\u001b[49m\u001b[43mlsts\u001b[49m\u001b[43m,\u001b[49m\n\u001b[32m   1087\u001b[39m \u001b[43m        \u001b[49m\u001b[43mlst_range\u001b[49m\u001b[43m=\u001b[49m\u001b[43mlst_range\u001b[49m\u001b[43m,\u001b[49m\n\u001b[32m   1088\u001b[39m \u001b[43m        \u001b[49m\u001b[43mpolarizations\u001b[49m\u001b[43m=\u001b[49m\u001b[43mpolarizations\u001b[49m\u001b[43m,\u001b[49m\n\u001b[32m   1089\u001b[39m \u001b[43m        \u001b[49m\u001b[43mblt_inds\u001b[49m\u001b[43m=\u001b[49m\u001b[43mblt_inds\u001b[49m\u001b[43m,\u001b[49m\n\u001b[32m   1090\u001b[39m \u001b[43m        \u001b[49m\u001b[43mphase_center_ids\u001b[49m\u001b[43m=\u001b[49m\u001b[43mphase_center_ids\u001b[49m\u001b[43m,\u001b[49m\n\u001b[32m   1091\u001b[39m \u001b[43m        \u001b[49m\u001b[43mcatalog_names\u001b[49m\u001b[43m=\u001b[49m\u001b[43mcatalog_names\u001b[49m\u001b[43m,\u001b[49m\n\u001b[32m   1092\u001b[39m \u001b[43m        \u001b[49m\u001b[43mdata_array_dtype\u001b[49m\u001b[43m=\u001b[49m\u001b[43mdata_array_dtype\u001b[49m\u001b[43m,\u001b[49m\n\u001b[32m   1093\u001b[39m \u001b[43m        \u001b[49m\u001b[43mkeep_all_metadata\u001b[49m\u001b[43m=\u001b[49m\u001b[43mkeep_all_metadata\u001b[49m\u001b[43m,\u001b[49m\n\u001b[32m   1094\u001b[39m \u001b[43m        \u001b[49m\u001b[43mmultidim_index\u001b[49m\u001b[43m=\u001b[49m\u001b[43mmultidim_index\u001b[49m\u001b[43m,\u001b[49m\n\u001b[32m   1095\u001b[39m \u001b[43m    \u001b[49m\u001b[43m)\u001b[49m\n\u001b[32m   1096\u001b[39m \u001b[38;5;28;01mif\u001b[39;00m close_meta:\n\u001b[32m   1097\u001b[39m     meta.close()\n",
      "\u001b[36mFile \u001b[39m\u001b[32m/opt/miniforge/envs/casa6/lib/python3.11/site-packages/pyuvdata/uvdata/uvh5.py:817\u001b[39m, in \u001b[36mUVH5._get_data\u001b[39m\u001b[34m(self, dgrp, antenna_nums, antenna_names, ant_str, bls, frequencies, freq_chans, spws, times, time_range, lsts, lst_range, polarizations, blt_inds, phase_center_ids, catalog_names, data_array_dtype, keep_all_metadata, multidim_index)\u001b[39m\n\u001b[32m    815\u001b[39m     \u001b[38;5;28;01melse\u001b[39;00m:\n\u001b[32m    816\u001b[39m         \u001b[38;5;28mself\u001b[39m.data_array = hdf5_utils._index_dset(dgrp[\u001b[33m\"\u001b[39m\u001b[33mvisdata\u001b[39m\u001b[33m\"\u001b[39m], inds)\n\u001b[32m--> \u001b[39m\u001b[32m817\u001b[39m     \u001b[38;5;28mself\u001b[39m.flag_array = \u001b[43mhdf5_utils\u001b[49m\u001b[43m.\u001b[49m\u001b[43m_index_dset\u001b[49m\u001b[43m(\u001b[49m\u001b[43mdgrp\u001b[49m\u001b[43m[\u001b[49m\u001b[33;43m\"\u001b[39;49m\u001b[33;43mflags\u001b[39;49m\u001b[33;43m\"\u001b[39;49m\u001b[43m]\u001b[49m\u001b[43m,\u001b[49m\u001b[43m \u001b[49m\u001b[43minds\u001b[49m\u001b[43m)\u001b[49m\n\u001b[32m    818\u001b[39m     \u001b[38;5;28mself\u001b[39m.nsample_array = hdf5_utils._index_dset(dgrp[\u001b[33m\"\u001b[39m\u001b[33mnsamples\u001b[39m\u001b[33m\"\u001b[39m], inds)\n\u001b[32m    819\u001b[39m \u001b[38;5;28;01melse\u001b[39;00m:\n\u001b[32m    820\u001b[39m     \u001b[38;5;66;03m# do select operations on everything except data_array, flag_array\u001b[39;00m\n\u001b[32m    821\u001b[39m     \u001b[38;5;66;03m# and nsample_array\u001b[39;00m\n",
      "\u001b[36mFile \u001b[39m\u001b[32m/opt/miniforge/envs/casa6/lib/python3.11/site-packages/pyuvdata/utils/io/hdf5.py:248\u001b[39m, in \u001b[36m_index_dset\u001b[39m\u001b[34m(dset, indices, input_array)\u001b[39m\n\u001b[32m    245\u001b[39m     sel_dset_indices.append(dset_indices[dim][this_index])\n\u001b[32m    246\u001b[39m \u001b[38;5;28;01mif\u001b[39;00m input_array \u001b[38;5;129;01mis\u001b[39;00m \u001b[38;5;28;01mNone\u001b[39;00m:\n\u001b[32m    247\u001b[39m     \u001b[38;5;66;03m# index dset and assign to arr\u001b[39;00m\n\u001b[32m--> \u001b[39m\u001b[32m248\u001b[39m     arr[(*sel_arr_indices,)] = \u001b[43mdset\u001b[49m\u001b[43m[\u001b[49m\u001b[43m(\u001b[49m\u001b[43m*\u001b[49m\u001b[43msel_dset_indices\u001b[49m\u001b[43m,\u001b[49m\u001b[43m)\u001b[49m\u001b[43m]\u001b[49m\n\u001b[32m    249\u001b[39m \u001b[38;5;28;01melse\u001b[39;00m:\n\u001b[32m    250\u001b[39m     \u001b[38;5;66;03m# index arr and assign to dset\u001b[39;00m\n\u001b[32m    251\u001b[39m     dset[(*sel_dset_indices,)] = arr[(*sel_arr_indices,)]\n",
      "\u001b[36mFile \u001b[39m\u001b[32mh5py/_objects.pyx:56\u001b[39m, in \u001b[36mh5py._objects.with_phil.wrapper\u001b[39m\u001b[34m()\u001b[39m\n",
      "\u001b[36mFile \u001b[39m\u001b[32mh5py/_objects.pyx:57\u001b[39m, in \u001b[36mh5py._objects.with_phil.wrapper\u001b[39m\u001b[34m()\u001b[39m\n",
      "\u001b[36mFile \u001b[39m\u001b[32m/opt/miniforge/envs/casa6/lib/python3.11/site-packages/h5py/_hl/dataset.py:903\u001b[39m, in \u001b[36mDataset.__getitem__\u001b[39m\u001b[34m(self, args, new_dtype)\u001b[39m\n\u001b[32m    901\u001b[39m mspace = h5s.create_simple(selection.mshape)\n\u001b[32m    902\u001b[39m fspace = selection.id\n\u001b[32m--> \u001b[39m\u001b[32m903\u001b[39m \u001b[38;5;28;43mself\u001b[39;49m\u001b[43m.\u001b[49m\u001b[43mid\u001b[49m\u001b[43m.\u001b[49m\u001b[43mread\u001b[49m\u001b[43m(\u001b[49m\u001b[43mmspace\u001b[49m\u001b[43m,\u001b[49m\u001b[43m \u001b[49m\u001b[43mfspace\u001b[49m\u001b[43m,\u001b[49m\u001b[43m \u001b[49m\u001b[43marr\u001b[49m\u001b[43m,\u001b[49m\u001b[43m \u001b[49m\u001b[43mmtype\u001b[49m\u001b[43m,\u001b[49m\u001b[43m \u001b[49m\u001b[43mdxpl\u001b[49m\u001b[43m=\u001b[49m\u001b[38;5;28;43mself\u001b[39;49m\u001b[43m.\u001b[49m\u001b[43m_dxpl\u001b[49m\u001b[43m)\u001b[49m\n\u001b[32m    905\u001b[39m \u001b[38;5;66;03m# Patch up the output for NumPy\u001b[39;00m\n\u001b[32m    906\u001b[39m \u001b[38;5;28;01mif\u001b[39;00m arr.shape == ():\n",
      "\u001b[31mKeyboardInterrupt\u001b[39m: "
     ]
    }
   ],
   "source": [
    "\n"
   ]
  },
  {
   "cell_type": "code",
   "execution_count": null,
   "id": "778e7516",
   "metadata": {},
   "outputs": [
    {
     "ename": "NameError",
     "evalue": "name 'uv' is not defined",
     "output_type": "error",
     "traceback": [
      "\u001b[31m---------------------------------------------------------------------------\u001b[39m",
      "\u001b[31mNameError\u001b[39m                                 Traceback (most recent call last)",
      "\u001b[36mCell\u001b[39m\u001b[36m \u001b[39m\u001b[32mIn[2]\u001b[39m\u001b[32m, line 45\u001b[39m\n\u001b[32m     41\u001b[39m os.makedirs(OUT_DIR, exist_ok=\u001b[38;5;28;01mTrue\u001b[39;00m)\n\u001b[32m     43\u001b[39m \u001b[38;5;66;03m# Reduce to a tiny working set for quick iteration\u001b[39;00m\n\u001b[32m     44\u001b[39m \u001b[38;5;66;03m# 1) Keep 1 time\u001b[39;00m\n\u001b[32m---> \u001b[39m\u001b[32m45\u001b[39m uniq_t = np.unique(uv_small.time_array) \u001b[38;5;28;01mif\u001b[39;00m \u001b[33m'\u001b[39m\u001b[33muv_small\u001b[39m\u001b[33m'\u001b[39m \u001b[38;5;129;01min\u001b[39;00m \u001b[38;5;28mglobals\u001b[39m() \u001b[38;5;28;01melse\u001b[39;00m np.unique(\u001b[43muv\u001b[49m.time_array)\n\u001b[32m     46\u001b[39m \u001b[38;5;28;01mif\u001b[39;00m uniq_t.size > \u001b[32m1\u001b[39m:\n\u001b[32m     47\u001b[39m     (uv_small \u001b[38;5;28;01mif\u001b[39;00m \u001b[33m'\u001b[39m\u001b[33muv_small\u001b[39m\u001b[33m'\u001b[39m \u001b[38;5;129;01min\u001b[39;00m \u001b[38;5;28mglobals\u001b[39m() \u001b[38;5;28;01melse\u001b[39;00m uv).select(times=uniq_t[:\u001b[32m1\u001b[39m], run_check=\u001b[38;5;28;01mFalse\u001b[39;00m)\n",
      "\u001b[31mNameError\u001b[39m: name 'uv' is not defined"
     ]
    }
   ],
   "source": [
    "\n"
   ]
  },
  {
   "cell_type": "code",
   "execution_count": null,
   "id": "b656b263",
   "metadata": {},
   "outputs": [],
   "source": []
  }
 ],
 "metadata": {
  "kernelspec": {
   "display_name": "casa6",
   "language": "python",
   "name": "python3"
  },
  "language_info": {
   "codemirror_mode": {
    "name": "ipython",
    "version": 3
   },
   "file_extension": ".py",
   "mimetype": "text/x-python",
   "name": "python",
   "nbconvert_exporter": "python",
   "pygments_lexer": "ipython3",
   "version": "3.11.13"
  }
 },
 "nbformat": 4,
 "nbformat_minor": 5
}
