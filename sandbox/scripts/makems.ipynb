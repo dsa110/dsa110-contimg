{
 "cells": [
  {
   "cell_type": "code",
   "execution_count": 1,
   "metadata": {},
   "outputs": [],
   "source": [
    "import sys\n",
    "import os\n",
    "import argparse\n",
    "import numpy as np\n",
    "from astropy.coordinates import SkyCoord, match_coordinates_sky\n",
    "from astroquery.vizier import Vizier\n",
    "\n",
    "from casatasks import listobs, clearcal, setjy, gaincal, bandpass, applycal, tclean, flagdata, ft, delmod\n",
    "from casatools import componentlist"
   ]
  },
  {
   "cell_type": "code",
   "execution_count": 2,
   "metadata": {},
   "outputs": [
    {
     "name": "stdout",
     "output_type": "stream",
     "text": [
      "File Groups: [['/data/incoming/2025-02-14T13:07:28_sb00.hdf5', '/data/incoming/2025-02-14T13:07:28_sb01.hdf5', '/data/incoming/2025-02-14T13:07:27_sb02.hdf5', '/data/incoming/2025-02-14T13:07:28_sb03.hdf5', '/data/incoming/2025-02-14T13:07:28_sb04.hdf5', '/data/incoming/2025-02-14T13:07:28_sb05.hdf5', '/data/incoming/2025-02-14T13:07:28_sb06.hdf5', '/data/incoming/2025-02-14T13:07:28_sb07.hdf5', '/data/incoming/2025-02-14T13:07:28_sb08.hdf5', '/data/incoming/2025-02-14T13:07:28_sb09.hdf5', '/data/incoming/2025-02-14T13:07:27_sb10.hdf5', '/data/incoming/2025-02-14T13:07:28_sb11.hdf5', '/data/incoming/2025-02-14T13:07:27_sb12.hdf5', '/data/incoming/2025-02-14T13:07:28_sb13.hdf5', '/data/incoming/2025-02-14T13:07:28_sb14.hdf5', '/data/incoming/2025-02-14T13:07:28_sb15.hdf5']]\n",
      "File Group Times: ['2025-02-14T13:07:27.000']\n",
      "Working on 2025-02-14T13:07:27.000\n",
      "Loading data...\n",
      "Setting coordinate and uvw information\n"
     ]
    },
    {
     "ename": "",
     "evalue": "",
     "output_type": "error",
     "traceback": [
      "\u001b[1;31mThe Kernel crashed while executing code in the current cell or a previous cell. \n",
      "\u001b[1;31mPlease review the code in the cell(s) to identify a possible cause of the failure. \n",
      "\u001b[1;31mClick <a href='https://aka.ms/vscodeJupyterKernelCrash'>here</a> for more info. \n",
      "\u001b[1;31mView Jupyter <a href='command:jupyter.viewOutput'>log</a> for further details."
     ]
    }
   ],
   "source": [
    "sys.path.insert(0, '/data/jfaber/dsa110-contimg/hdf5_to_ms/makems_rk')\n",
    "from script_ms import ms_script\n",
    "\n",
    "ms_script(tmin='2025-02-14T13:07:26', tmax='2025-02-14T13:12:00',incoming_files='/data/incoming/',\n",
    "     output_files = '/data/jfaber/dsa110-contimg/sandbox/', output_cal_files = '/data/jfaber/dsa110-contimg/sandbox/')"
   ]
  },
  {
   "cell_type": "code",
   "execution_count": null,
   "metadata": {},
   "outputs": [],
   "source": []
  }
 ],
 "metadata": {
  "kernelspec": {
   "display_name": "dsa_contimg",
   "language": "python",
   "name": "python3"
  },
  "language_info": {
   "codemirror_mode": {
    "name": "ipython",
    "version": 3
   },
   "file_extension": ".py",
   "mimetype": "text/x-python",
   "name": "python",
   "nbconvert_exporter": "python",
   "pygments_lexer": "ipython3",
   "version": "3.10.16"
  }
 },
 "nbformat": 4,
 "nbformat_minor": 2
}
